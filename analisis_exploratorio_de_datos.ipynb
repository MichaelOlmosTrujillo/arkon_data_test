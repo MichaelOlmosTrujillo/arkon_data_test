{
 "cells": [
  {
   "cell_type": "code",
   "execution_count": 1,
   "metadata": {},
   "outputs": [],
   "source": [
    "import pandas as pd\n",
    "import networkx as nx\n",
    "import matplotlib.pyplot as plt\n",
    "import seaborn as sns\n",
    "import plotly.express as px\n"
   ]
  },
  {
   "cell_type": "markdown",
   "metadata": {},
   "source": [
    "### Lectura de datos"
   ]
  },
  {
   "cell_type": "code",
   "execution_count": 18,
   "metadata": {},
   "outputs": [
    {
     "name": "stderr",
     "output_type": "stream",
     "text": [
      "C:\\Users\\Michael_PC\\AppData\\Local\\Temp\\ipykernel_5412\\989324326.py:4: DtypeWarning:\n",
      "\n",
      "Columns (8) have mixed types. Specify dtype option on import or set low_memory=False.\n",
      "\n"
     ]
    }
   ],
   "source": [
    "ruta_df = './data/df_set.csv'\n",
    "ruta_df_train = './data/train_set.csv'\n",
    "df = pd.read_csv(ruta_df, sep = ',')\n",
    "df_train = pd.read_csv(ruta_df_train, sep = ',')"
   ]
  },
  {
   "cell_type": "code",
   "execution_count": 3,
   "metadata": {},
   "outputs": [
    {
     "data": {
      "text/html": [
       "<div>\n",
       "<style scoped>\n",
       "    .dataframe tbody tr th:only-of-type {\n",
       "        vertical-align: middle;\n",
       "    }\n",
       "\n",
       "    .dataframe tbody tr th {\n",
       "        vertical-align: top;\n",
       "    }\n",
       "\n",
       "    .dataframe thead th {\n",
       "        text-align: right;\n",
       "    }\n",
       "</style>\n",
       "<table border=\"1\" class=\"dataframe\">\n",
       "  <thead>\n",
       "    <tr style=\"text-align: right;\">\n",
       "      <th></th>\n",
       "      <th>trip_id</th>\n",
       "      <th>duration</th>\n",
       "      <th>start_time</th>\n",
       "      <th>end_time</th>\n",
       "      <th>start_lat</th>\n",
       "      <th>start_lon</th>\n",
       "      <th>end_lat</th>\n",
       "      <th>end_lon</th>\n",
       "      <th>bike_id</th>\n",
       "      <th>plan_duration</th>\n",
       "      <th>...</th>\n",
       "      <th>start_year</th>\n",
       "      <th>start_hour</th>\n",
       "      <th>start_minute</th>\n",
       "      <th>start_second</th>\n",
       "      <th>end_day</th>\n",
       "      <th>end_month</th>\n",
       "      <th>end_year</th>\n",
       "      <th>end_hour</th>\n",
       "      <th>end_minute</th>\n",
       "      <th>end_second</th>\n",
       "    </tr>\n",
       "  </thead>\n",
       "  <tbody>\n",
       "    <tr>\n",
       "      <th>0</th>\n",
       "      <td>101750280</td>\n",
       "      <td>35</td>\n",
       "      <td>2018-08-07 11:20:00</td>\n",
       "      <td>2018-08-07 11:55:00</td>\n",
       "      <td>33.748920</td>\n",
       "      <td>-118.275192</td>\n",
       "      <td>33.748920</td>\n",
       "      <td>-118.275192</td>\n",
       "      <td>6530</td>\n",
       "      <td>1.0</td>\n",
       "      <td>...</td>\n",
       "      <td>2018</td>\n",
       "      <td>11</td>\n",
       "      <td>20</td>\n",
       "      <td>0</td>\n",
       "      <td>7</td>\n",
       "      <td>8</td>\n",
       "      <td>2018</td>\n",
       "      <td>11</td>\n",
       "      <td>55</td>\n",
       "      <td>0</td>\n",
       "    </tr>\n",
       "    <tr>\n",
       "      <th>1</th>\n",
       "      <td>46560345</td>\n",
       "      <td>32</td>\n",
       "      <td>2017-09-17 17:51:00</td>\n",
       "      <td>2017-09-17 18:23:00</td>\n",
       "      <td>34.035679</td>\n",
       "      <td>-118.270813</td>\n",
       "      <td>34.047749</td>\n",
       "      <td>-118.243172</td>\n",
       "      <td>6683</td>\n",
       "      <td>0.0</td>\n",
       "      <td>...</td>\n",
       "      <td>2017</td>\n",
       "      <td>17</td>\n",
       "      <td>51</td>\n",
       "      <td>0</td>\n",
       "      <td>17</td>\n",
       "      <td>9</td>\n",
       "      <td>2017</td>\n",
       "      <td>18</td>\n",
       "      <td>23</td>\n",
       "      <td>0</td>\n",
       "    </tr>\n",
       "    <tr>\n",
       "      <th>2</th>\n",
       "      <td>120016336</td>\n",
       "      <td>6</td>\n",
       "      <td>2019-04-22 09:22:00</td>\n",
       "      <td>2019-04-22 09:28:00</td>\n",
       "      <td>34.046070</td>\n",
       "      <td>-118.233093</td>\n",
       "      <td>34.047749</td>\n",
       "      <td>-118.243172</td>\n",
       "      <td>6710</td>\n",
       "      <td>30.0</td>\n",
       "      <td>...</td>\n",
       "      <td>2019</td>\n",
       "      <td>9</td>\n",
       "      <td>22</td>\n",
       "      <td>0</td>\n",
       "      <td>22</td>\n",
       "      <td>4</td>\n",
       "      <td>2019</td>\n",
       "      <td>9</td>\n",
       "      <td>28</td>\n",
       "      <td>0</td>\n",
       "    </tr>\n",
       "    <tr>\n",
       "      <th>3</th>\n",
       "      <td>129547190</td>\n",
       "      <td>138</td>\n",
       "      <td>2019-09-22 11:27:00</td>\n",
       "      <td>2019-09-22 13:45:00</td>\n",
       "      <td>34.062580</td>\n",
       "      <td>-118.290092</td>\n",
       "      <td>34.059689</td>\n",
       "      <td>-118.294662</td>\n",
       "      <td>17068</td>\n",
       "      <td>1.0</td>\n",
       "      <td>...</td>\n",
       "      <td>2019</td>\n",
       "      <td>11</td>\n",
       "      <td>27</td>\n",
       "      <td>0</td>\n",
       "      <td>22</td>\n",
       "      <td>9</td>\n",
       "      <td>2019</td>\n",
       "      <td>13</td>\n",
       "      <td>45</td>\n",
       "      <td>0</td>\n",
       "    </tr>\n",
       "    <tr>\n",
       "      <th>4</th>\n",
       "      <td>136619463</td>\n",
       "      <td>14</td>\n",
       "      <td>2020-01-31 17:11:00</td>\n",
       "      <td>2020-01-31 17:25:00</td>\n",
       "      <td>34.026291</td>\n",
       "      <td>-118.277687</td>\n",
       "      <td>34.021660</td>\n",
       "      <td>-118.278687</td>\n",
       "      <td>18841</td>\n",
       "      <td>30.0</td>\n",
       "      <td>...</td>\n",
       "      <td>2020</td>\n",
       "      <td>17</td>\n",
       "      <td>11</td>\n",
       "      <td>0</td>\n",
       "      <td>31</td>\n",
       "      <td>1</td>\n",
       "      <td>2020</td>\n",
       "      <td>17</td>\n",
       "      <td>25</td>\n",
       "      <td>0</td>\n",
       "    </tr>\n",
       "  </tbody>\n",
       "</table>\n",
       "<p>5 rows × 26 columns</p>\n",
       "</div>"
      ],
      "text/plain": [
       "     trip_id  duration           start_time             end_time  start_lat  \\\n",
       "0  101750280        35  2018-08-07 11:20:00  2018-08-07 11:55:00  33.748920   \n",
       "1   46560345        32  2017-09-17 17:51:00  2017-09-17 18:23:00  34.035679   \n",
       "2  120016336         6  2019-04-22 09:22:00  2019-04-22 09:28:00  34.046070   \n",
       "3  129547190       138  2019-09-22 11:27:00  2019-09-22 13:45:00  34.062580   \n",
       "4  136619463        14  2020-01-31 17:11:00  2020-01-31 17:25:00  34.026291   \n",
       "\n",
       "    start_lon    end_lat     end_lon  bike_id  plan_duration  ... start_year  \\\n",
       "0 -118.275192  33.748920 -118.275192     6530            1.0  ...       2018   \n",
       "1 -118.270813  34.047749 -118.243172     6683            0.0  ...       2017   \n",
       "2 -118.233093  34.047749 -118.243172     6710           30.0  ...       2019   \n",
       "3 -118.290092  34.059689 -118.294662    17068            1.0  ...       2019   \n",
       "4 -118.277687  34.021660 -118.278687    18841           30.0  ...       2020   \n",
       "\n",
       "  start_hour  start_minute  start_second  end_day  end_month  end_year  \\\n",
       "0         11            20             0        7          8      2018   \n",
       "1         17            51             0       17          9      2017   \n",
       "2          9            22             0       22          4      2019   \n",
       "3         11            27             0       22          9      2019   \n",
       "4         17            11             0       31          1      2020   \n",
       "\n",
       "   end_hour  end_minute  end_second  \n",
       "0        11          55           0  \n",
       "1        18          23           0  \n",
       "2         9          28           0  \n",
       "3        13          45           0  \n",
       "4        17          25           0  \n",
       "\n",
       "[5 rows x 26 columns]"
      ]
     },
     "execution_count": 3,
     "metadata": {},
     "output_type": "execute_result"
    }
   ],
   "source": [
    "df.head()"
   ]
  },
  {
   "cell_type": "markdown",
   "metadata": {},
   "source": [
    "### convertir las variables start_time y end_time a datetime"
   ]
  },
  {
   "cell_type": "code",
   "execution_count": 4,
   "metadata": {},
   "outputs": [],
   "source": [
    "df['start_time'] = pd.to_datetime(df['start_time'])\n",
    "df['end_time'] = pd.to_datetime(df['end_time'])"
   ]
  },
  {
   "cell_type": "markdown",
   "metadata": {},
   "source": [
    "### Pregunta\n",
    "* Saturación del servicio: La empresa busca contar con la disponibilidad más alta\n",
    "de servicio en el mercado, por lo que se quiere entender cómo se comporta la\n",
    "demanda de servicio en las distintas estaciones y horarios para cada plan."
   ]
  },
  {
   "cell_type": "code",
   "execution_count": 5,
   "metadata": {},
   "outputs": [
    {
     "data": {
      "text/html": [
       "<div>\n",
       "<style scoped>\n",
       "    .dataframe tbody tr th:only-of-type {\n",
       "        vertical-align: middle;\n",
       "    }\n",
       "\n",
       "    .dataframe tbody tr th {\n",
       "        vertical-align: top;\n",
       "    }\n",
       "\n",
       "    .dataframe thead th {\n",
       "        text-align: right;\n",
       "    }\n",
       "</style>\n",
       "<table border=\"1\" class=\"dataframe\">\n",
       "  <thead>\n",
       "    <tr style=\"text-align: right;\">\n",
       "      <th></th>\n",
       "      <th>passholder_type</th>\n",
       "      <th>start_station</th>\n",
       "      <th>end_station</th>\n",
       "      <th>start_year</th>\n",
       "      <th>end_year</th>\n",
       "      <th>cantidad_de_viajes</th>\n",
       "    </tr>\n",
       "  </thead>\n",
       "  <tbody>\n",
       "    <tr>\n",
       "      <th>0</th>\n",
       "      <td>Monthly Pass</td>\n",
       "      <td>3030</td>\n",
       "      <td>3014</td>\n",
       "      <td>2019</td>\n",
       "      <td>2019</td>\n",
       "      <td>5059</td>\n",
       "    </tr>\n",
       "    <tr>\n",
       "      <th>1</th>\n",
       "      <td>Monthly Pass</td>\n",
       "      <td>3014</td>\n",
       "      <td>3030</td>\n",
       "      <td>2019</td>\n",
       "      <td>2019</td>\n",
       "      <td>4340</td>\n",
       "    </tr>\n",
       "    <tr>\n",
       "      <th>2</th>\n",
       "      <td>Walk-up</td>\n",
       "      <td>4214</td>\n",
       "      <td>4214</td>\n",
       "      <td>2018</td>\n",
       "      <td>2018</td>\n",
       "      <td>3804</td>\n",
       "    </tr>\n",
       "    <tr>\n",
       "      <th>3</th>\n",
       "      <td>Monthly Pass</td>\n",
       "      <td>4214</td>\n",
       "      <td>4214</td>\n",
       "      <td>2018</td>\n",
       "      <td>2018</td>\n",
       "      <td>3493</td>\n",
       "    </tr>\n",
       "    <tr>\n",
       "      <th>4</th>\n",
       "      <td>Monthly Pass</td>\n",
       "      <td>3030</td>\n",
       "      <td>3014</td>\n",
       "      <td>2018</td>\n",
       "      <td>2018</td>\n",
       "      <td>2755</td>\n",
       "    </tr>\n",
       "  </tbody>\n",
       "</table>\n",
       "</div>"
      ],
      "text/plain": [
       "  passholder_type  start_station  end_station  start_year  end_year  \\\n",
       "0    Monthly Pass           3030         3014        2019      2019   \n",
       "1    Monthly Pass           3014         3030        2019      2019   \n",
       "2         Walk-up           4214         4214        2018      2018   \n",
       "3    Monthly Pass           4214         4214        2018      2018   \n",
       "4    Monthly Pass           3030         3014        2018      2018   \n",
       "\n",
       "   cantidad_de_viajes  \n",
       "0                5059  \n",
       "1                4340  \n",
       "2                3804  \n",
       "3                3493  \n",
       "4                2755  "
      ]
     },
     "execution_count": 5,
     "metadata": {},
     "output_type": "execute_result"
    }
   ],
   "source": [
    "grupo_anio = df.groupby(['passholder_type', \n",
    "                  'start_station',\n",
    "                  'end_station',\n",
    "                  'start_year',\n",
    "                  'end_year']\n",
    "                  ).size()\n",
    "grupo_anio_ordenado = grupo_anio.sort_values(ascending = False).to_frame().reset_index()\n",
    "grupo_anio_ordenado.rename(columns = {0:'cantidad_de_viajes'}, inplace = True)\n",
    "grupo_anio_ordenado.head()"
   ]
  },
  {
   "cell_type": "markdown",
   "metadata": {},
   "source": [
    "### Frecuencia de estaciones iniciales con respecto al plan"
   ]
  },
  {
   "cell_type": "code",
   "execution_count": 6,
   "metadata": {},
   "outputs": [
    {
     "data": {
      "text/html": [
       "<div>\n",
       "<style scoped>\n",
       "    .dataframe tbody tr th:only-of-type {\n",
       "        vertical-align: middle;\n",
       "    }\n",
       "\n",
       "    .dataframe tbody tr th {\n",
       "        vertical-align: top;\n",
       "    }\n",
       "\n",
       "    .dataframe thead th {\n",
       "        text-align: right;\n",
       "    }\n",
       "</style>\n",
       "<table border=\"1\" class=\"dataframe\">\n",
       "  <thead>\n",
       "    <tr style=\"text-align: right;\">\n",
       "      <th></th>\n",
       "      <th>passholder_type</th>\n",
       "      <th>start_station</th>\n",
       "      <th>cantidad_de_viajes</th>\n",
       "    </tr>\n",
       "  </thead>\n",
       "  <tbody>\n",
       "    <tr>\n",
       "      <th>436</th>\n",
       "      <td>Monthly Pass</td>\n",
       "      <td>3005</td>\n",
       "      <td>43885</td>\n",
       "    </tr>\n",
       "    <tr>\n",
       "      <th>457</th>\n",
       "      <td>Monthly Pass</td>\n",
       "      <td>3030</td>\n",
       "      <td>32712</td>\n",
       "    </tr>\n",
       "    <tr>\n",
       "      <th>444</th>\n",
       "      <td>Monthly Pass</td>\n",
       "      <td>3014</td>\n",
       "      <td>28374</td>\n",
       "    </tr>\n",
       "    <tr>\n",
       "      <th>458</th>\n",
       "      <td>Monthly Pass</td>\n",
       "      <td>3031</td>\n",
       "      <td>26276</td>\n",
       "    </tr>\n",
       "    <tr>\n",
       "      <th>462</th>\n",
       "      <td>Monthly Pass</td>\n",
       "      <td>3035</td>\n",
       "      <td>23209</td>\n",
       "    </tr>\n",
       "    <tr>\n",
       "      <th>...</th>\n",
       "      <td>...</td>\n",
       "      <td>...</td>\n",
       "      <td>...</td>\n",
       "    </tr>\n",
       "    <tr>\n",
       "      <th>1177</th>\n",
       "      <td>Testing</td>\n",
       "      <td>4419</td>\n",
       "      <td>1</td>\n",
       "    </tr>\n",
       "    <tr>\n",
       "      <th>1178</th>\n",
       "      <td>Testing</td>\n",
       "      <td>4425</td>\n",
       "      <td>1</td>\n",
       "    </tr>\n",
       "    <tr>\n",
       "      <th>1180</th>\n",
       "      <td>Testing</td>\n",
       "      <td>4460</td>\n",
       "      <td>1</td>\n",
       "    </tr>\n",
       "    <tr>\n",
       "      <th>1182</th>\n",
       "      <td>Testing</td>\n",
       "      <td>4470</td>\n",
       "      <td>1</td>\n",
       "    </tr>\n",
       "    <tr>\n",
       "      <th>425</th>\n",
       "      <td>Flex Pass</td>\n",
       "      <td>4245</td>\n",
       "      <td>1</td>\n",
       "    </tr>\n",
       "  </tbody>\n",
       "</table>\n",
       "<p>1546 rows × 3 columns</p>\n",
       "</div>"
      ],
      "text/plain": [
       "     passholder_type  start_station  cantidad_de_viajes\n",
       "436     Monthly Pass           3005               43885\n",
       "457     Monthly Pass           3030               32712\n",
       "444     Monthly Pass           3014               28374\n",
       "458     Monthly Pass           3031               26276\n",
       "462     Monthly Pass           3035               23209\n",
       "...              ...            ...                 ...\n",
       "1177         Testing           4419                   1\n",
       "1178         Testing           4425                   1\n",
       "1180         Testing           4460                   1\n",
       "1182         Testing           4470                   1\n",
       "425        Flex Pass           4245                   1\n",
       "\n",
       "[1546 rows x 3 columns]"
      ]
     },
     "execution_count": 6,
     "metadata": {},
     "output_type": "execute_result"
    }
   ],
   "source": [
    "cant_viajes_passholder_start_station = grupo_anio_ordenado.groupby(\n",
    "    ['passholder_type', 'start_station']\n",
    "    )['cantidad_de_viajes'\n",
    "      ].sum().to_frame().reset_index().sort_values(\n",
    "          by = 'cantidad_de_viajes', ascending = False)\n",
    "cant_viajes_passholder_start_station"
   ]
  },
  {
   "cell_type": "markdown",
   "metadata": {},
   "source": [
    "### Guardando el archivo: cant_viajes_passholder_start_station"
   ]
  },
  {
   "cell_type": "code",
   "execution_count": 7,
   "metadata": {},
   "outputs": [],
   "source": [
    "ruta_cant_viajes_passholder_start_station = './data/cant_viajes_passholder_start_station.csv'\n",
    "\n",
    "cant_viajes_passholder_start_station.to_csv(\n",
    "    ruta_cant_viajes_passholder_start_station,\n",
    "    sep = ','\n",
    "    )"
   ]
  },
  {
   "cell_type": "markdown",
   "metadata": {},
   "source": [
    "### Frecuencia de estaciones finales con respecto al plan"
   ]
  },
  {
   "cell_type": "code",
   "execution_count": 8,
   "metadata": {},
   "outputs": [
    {
     "data": {
      "text/html": [
       "<div>\n",
       "<style scoped>\n",
       "    .dataframe tbody tr th:only-of-type {\n",
       "        vertical-align: middle;\n",
       "    }\n",
       "\n",
       "    .dataframe tbody tr th {\n",
       "        vertical-align: top;\n",
       "    }\n",
       "\n",
       "    .dataframe thead th {\n",
       "        text-align: right;\n",
       "    }\n",
       "</style>\n",
       "<table border=\"1\" class=\"dataframe\">\n",
       "  <thead>\n",
       "    <tr style=\"text-align: right;\">\n",
       "      <th></th>\n",
       "      <th>passholder_type</th>\n",
       "      <th>end_station</th>\n",
       "      <th>cantidad_de_viajes</th>\n",
       "    </tr>\n",
       "  </thead>\n",
       "  <tbody>\n",
       "    <tr>\n",
       "      <th>433</th>\n",
       "      <td>Monthly Pass</td>\n",
       "      <td>3005</td>\n",
       "      <td>47120</td>\n",
       "    </tr>\n",
       "    <tr>\n",
       "      <th>441</th>\n",
       "      <td>Monthly Pass</td>\n",
       "      <td>3014</td>\n",
       "      <td>31203</td>\n",
       "    </tr>\n",
       "    <tr>\n",
       "      <th>454</th>\n",
       "      <td>Monthly Pass</td>\n",
       "      <td>3030</td>\n",
       "      <td>28212</td>\n",
       "    </tr>\n",
       "    <tr>\n",
       "      <th>455</th>\n",
       "      <td>Monthly Pass</td>\n",
       "      <td>3031</td>\n",
       "      <td>28095</td>\n",
       "    </tr>\n",
       "    <tr>\n",
       "      <th>459</th>\n",
       "      <td>Monthly Pass</td>\n",
       "      <td>3035</td>\n",
       "      <td>23859</td>\n",
       "    </tr>\n",
       "    <tr>\n",
       "      <th>...</th>\n",
       "      <td>...</td>\n",
       "      <td>...</td>\n",
       "      <td>...</td>\n",
       "    </tr>\n",
       "    <tr>\n",
       "      <th>166</th>\n",
       "      <td>Annual Pass</td>\n",
       "      <td>4407</td>\n",
       "      <td>1</td>\n",
       "    </tr>\n",
       "    <tr>\n",
       "      <th>256</th>\n",
       "      <td>Annual Pass</td>\n",
       "      <td>4539</td>\n",
       "      <td>1</td>\n",
       "    </tr>\n",
       "    <tr>\n",
       "      <th>427</th>\n",
       "      <td>Flex Pass</td>\n",
       "      <td>4276</td>\n",
       "      <td>1</td>\n",
       "    </tr>\n",
       "    <tr>\n",
       "      <th>426</th>\n",
       "      <td>Flex Pass</td>\n",
       "      <td>4249</td>\n",
       "      <td>1</td>\n",
       "    </tr>\n",
       "    <tr>\n",
       "      <th>425</th>\n",
       "      <td>Flex Pass</td>\n",
       "      <td>4248</td>\n",
       "      <td>1</td>\n",
       "    </tr>\n",
       "  </tbody>\n",
       "</table>\n",
       "<p>1549 rows × 3 columns</p>\n",
       "</div>"
      ],
      "text/plain": [
       "    passholder_type  end_station  cantidad_de_viajes\n",
       "433    Monthly Pass         3005               47120\n",
       "441    Monthly Pass         3014               31203\n",
       "454    Monthly Pass         3030               28212\n",
       "455    Monthly Pass         3031               28095\n",
       "459    Monthly Pass         3035               23859\n",
       "..              ...          ...                 ...\n",
       "166     Annual Pass         4407                   1\n",
       "256     Annual Pass         4539                   1\n",
       "427       Flex Pass         4276                   1\n",
       "426       Flex Pass         4249                   1\n",
       "425       Flex Pass         4248                   1\n",
       "\n",
       "[1549 rows x 3 columns]"
      ]
     },
     "execution_count": 8,
     "metadata": {},
     "output_type": "execute_result"
    }
   ],
   "source": [
    "cant_viajes_passholder_end_station = grupo_anio_ordenado.groupby(\n",
    "    ['passholder_type', 'end_station']\n",
    "    )['cantidad_de_viajes'\n",
    "      ].sum().to_frame().reset_index().sort_values(\n",
    "          by = 'cantidad_de_viajes', ascending = False)\n",
    "cant_viajes_passholder_end_station"
   ]
  },
  {
   "cell_type": "markdown",
   "metadata": {},
   "source": [
    "### Guardando el archivo cant_viajes_passholder_end_station"
   ]
  },
  {
   "cell_type": "code",
   "execution_count": 9,
   "metadata": {},
   "outputs": [],
   "source": [
    "ruta_cant_viajes_passholder_end_station = './data/cant_viajes_passholder_end_station'\n",
    "ruta_cant_viajes_passholder_end_station += '.csv'\n",
    "\n",
    "cant_viajes_passholder_end_station.to_csv(\n",
    "    ruta_cant_viajes_passholder_end_station,\n",
    "    sep = ','\n",
    ")"
   ]
  },
  {
   "cell_type": "markdown",
   "metadata": {},
   "source": [
    "### Observando los Viajes por año"
   ]
  },
  {
   "cell_type": "code",
   "execution_count": 10,
   "metadata": {},
   "outputs": [
    {
     "data": {
      "text/html": [
       "<div>\n",
       "<style scoped>\n",
       "    .dataframe tbody tr th:only-of-type {\n",
       "        vertical-align: middle;\n",
       "    }\n",
       "\n",
       "    .dataframe tbody tr th {\n",
       "        vertical-align: top;\n",
       "    }\n",
       "\n",
       "    .dataframe thead th {\n",
       "        text-align: right;\n",
       "    }\n",
       "</style>\n",
       "<table border=\"1\" class=\"dataframe\">\n",
       "  <thead>\n",
       "    <tr style=\"text-align: right;\">\n",
       "      <th></th>\n",
       "      <th>start_year</th>\n",
       "      <th>cantidad_de_viajes</th>\n",
       "    </tr>\n",
       "  </thead>\n",
       "  <tbody>\n",
       "    <tr>\n",
       "      <th>0</th>\n",
       "      <td>2016</td>\n",
       "      <td>43198</td>\n",
       "    </tr>\n",
       "    <tr>\n",
       "      <th>5</th>\n",
       "      <td>2021</td>\n",
       "      <td>185223</td>\n",
       "    </tr>\n",
       "    <tr>\n",
       "      <th>4</th>\n",
       "      <td>2020</td>\n",
       "      <td>209974</td>\n",
       "    </tr>\n",
       "    <tr>\n",
       "      <th>1</th>\n",
       "      <td>2017</td>\n",
       "      <td>229255</td>\n",
       "    </tr>\n",
       "    <tr>\n",
       "      <th>3</th>\n",
       "      <td>2019</td>\n",
       "      <td>290342</td>\n",
       "    </tr>\n",
       "    <tr>\n",
       "      <th>2</th>\n",
       "      <td>2018</td>\n",
       "      <td>311894</td>\n",
       "    </tr>\n",
       "  </tbody>\n",
       "</table>\n",
       "</div>"
      ],
      "text/plain": [
       "   start_year  cantidad_de_viajes\n",
       "0        2016               43198\n",
       "5        2021              185223\n",
       "4        2020              209974\n",
       "1        2017              229255\n",
       "3        2019              290342\n",
       "2        2018              311894"
      ]
     },
     "execution_count": 10,
     "metadata": {},
     "output_type": "execute_result"
    }
   ],
   "source": [
    "viajes_por_anio = df.groupby('start_year').size().to_frame().reset_index()\n",
    "viajes_por_anio = viajes_por_anio.rename(columns = {0:'cantidad_de_viajes'})\n",
    "viajes_por_anio = viajes_por_anio.sort_values(by = 'cantidad_de_viajes',\n",
    "                                              ascending=True)\n",
    "viajes_por_anio"
   ]
  },
  {
   "cell_type": "markdown",
   "metadata": {},
   "source": [
    "### Cantidad de planes por año"
   ]
  },
  {
   "cell_type": "code",
   "execution_count": 11,
   "metadata": {},
   "outputs": [
    {
     "data": {
      "text/html": [
       "<div>\n",
       "<style scoped>\n",
       "    .dataframe tbody tr th:only-of-type {\n",
       "        vertical-align: middle;\n",
       "    }\n",
       "\n",
       "    .dataframe tbody tr th {\n",
       "        vertical-align: top;\n",
       "    }\n",
       "\n",
       "    .dataframe thead th {\n",
       "        text-align: right;\n",
       "    }\n",
       "</style>\n",
       "<table border=\"1\" class=\"dataframe\">\n",
       "  <thead>\n",
       "    <tr style=\"text-align: right;\">\n",
       "      <th></th>\n",
       "      <th>start_year</th>\n",
       "      <th>passholder_type</th>\n",
       "      <th>cantidad_de_planes</th>\n",
       "    </tr>\n",
       "  </thead>\n",
       "  <tbody>\n",
       "    <tr>\n",
       "      <th>0</th>\n",
       "      <td>2016</td>\n",
       "      <td>Flex Pass</td>\n",
       "      <td>1534</td>\n",
       "    </tr>\n",
       "    <tr>\n",
       "      <th>2</th>\n",
       "      <td>2016</td>\n",
       "      <td>Walk-up</td>\n",
       "      <td>7134</td>\n",
       "    </tr>\n",
       "    <tr>\n",
       "      <th>1</th>\n",
       "      <td>2016</td>\n",
       "      <td>Monthly Pass</td>\n",
       "      <td>34530</td>\n",
       "    </tr>\n",
       "    <tr>\n",
       "      <th>5</th>\n",
       "      <td>2017</td>\n",
       "      <td>One Day Pass</td>\n",
       "      <td>3247</td>\n",
       "    </tr>\n",
       "    <tr>\n",
       "      <th>3</th>\n",
       "      <td>2017</td>\n",
       "      <td>Flex Pass</td>\n",
       "      <td>6195</td>\n",
       "    </tr>\n",
       "    <tr>\n",
       "      <th>6</th>\n",
       "      <td>2017</td>\n",
       "      <td>Walk-up</td>\n",
       "      <td>37318</td>\n",
       "    </tr>\n",
       "    <tr>\n",
       "      <th>4</th>\n",
       "      <td>2017</td>\n",
       "      <td>Monthly Pass</td>\n",
       "      <td>182495</td>\n",
       "    </tr>\n",
       "    <tr>\n",
       "      <th>7</th>\n",
       "      <td>2018</td>\n",
       "      <td>Annual Pass</td>\n",
       "      <td>1188</td>\n",
       "    </tr>\n",
       "    <tr>\n",
       "      <th>8</th>\n",
       "      <td>2018</td>\n",
       "      <td>Flex Pass</td>\n",
       "      <td>3713</td>\n",
       "    </tr>\n",
       "    <tr>\n",
       "      <th>10</th>\n",
       "      <td>2018</td>\n",
       "      <td>One Day Pass</td>\n",
       "      <td>9600</td>\n",
       "    </tr>\n",
       "    <tr>\n",
       "      <th>11</th>\n",
       "      <td>2018</td>\n",
       "      <td>Walk-up</td>\n",
       "      <td>68246</td>\n",
       "    </tr>\n",
       "    <tr>\n",
       "      <th>9</th>\n",
       "      <td>2018</td>\n",
       "      <td>Monthly Pass</td>\n",
       "      <td>229147</td>\n",
       "    </tr>\n",
       "    <tr>\n",
       "      <th>16</th>\n",
       "      <td>2019</td>\n",
       "      <td>Testing</td>\n",
       "      <td>60</td>\n",
       "    </tr>\n",
       "    <tr>\n",
       "      <th>13</th>\n",
       "      <td>2019</td>\n",
       "      <td>Flex Pass</td>\n",
       "      <td>162</td>\n",
       "    </tr>\n",
       "    <tr>\n",
       "      <th>15</th>\n",
       "      <td>2019</td>\n",
       "      <td>One Day Pass</td>\n",
       "      <td>8118</td>\n",
       "    </tr>\n",
       "    <tr>\n",
       "      <th>12</th>\n",
       "      <td>2019</td>\n",
       "      <td>Annual Pass</td>\n",
       "      <td>12002</td>\n",
       "    </tr>\n",
       "    <tr>\n",
       "      <th>17</th>\n",
       "      <td>2019</td>\n",
       "      <td>Walk-up</td>\n",
       "      <td>44426</td>\n",
       "    </tr>\n",
       "    <tr>\n",
       "      <th>14</th>\n",
       "      <td>2019</td>\n",
       "      <td>Monthly Pass</td>\n",
       "      <td>225574</td>\n",
       "    </tr>\n",
       "    <tr>\n",
       "      <th>21</th>\n",
       "      <td>2020</td>\n",
       "      <td>Testing</td>\n",
       "      <td>17</td>\n",
       "    </tr>\n",
       "    <tr>\n",
       "      <th>20</th>\n",
       "      <td>2020</td>\n",
       "      <td>One Day Pass</td>\n",
       "      <td>10677</td>\n",
       "    </tr>\n",
       "    <tr>\n",
       "      <th>18</th>\n",
       "      <td>2020</td>\n",
       "      <td>Annual Pass</td>\n",
       "      <td>11151</td>\n",
       "    </tr>\n",
       "    <tr>\n",
       "      <th>22</th>\n",
       "      <td>2020</td>\n",
       "      <td>Walk-up</td>\n",
       "      <td>21967</td>\n",
       "    </tr>\n",
       "    <tr>\n",
       "      <th>19</th>\n",
       "      <td>2020</td>\n",
       "      <td>Monthly Pass</td>\n",
       "      <td>163586</td>\n",
       "    </tr>\n",
       "    <tr>\n",
       "      <th>26</th>\n",
       "      <td>2021</td>\n",
       "      <td>Testing</td>\n",
       "      <td>1</td>\n",
       "    </tr>\n",
       "    <tr>\n",
       "      <th>23</th>\n",
       "      <td>2021</td>\n",
       "      <td>Annual Pass</td>\n",
       "      <td>9751</td>\n",
       "    </tr>\n",
       "    <tr>\n",
       "      <th>25</th>\n",
       "      <td>2021</td>\n",
       "      <td>One Day Pass</td>\n",
       "      <td>12813</td>\n",
       "    </tr>\n",
       "    <tr>\n",
       "      <th>27</th>\n",
       "      <td>2021</td>\n",
       "      <td>Walk-up</td>\n",
       "      <td>33335</td>\n",
       "    </tr>\n",
       "    <tr>\n",
       "      <th>24</th>\n",
       "      <td>2021</td>\n",
       "      <td>Monthly Pass</td>\n",
       "      <td>129323</td>\n",
       "    </tr>\n",
       "  </tbody>\n",
       "</table>\n",
       "</div>"
      ],
      "text/plain": [
       "    start_year passholder_type  cantidad_de_planes\n",
       "0         2016       Flex Pass                1534\n",
       "2         2016         Walk-up                7134\n",
       "1         2016    Monthly Pass               34530\n",
       "5         2017    One Day Pass                3247\n",
       "3         2017       Flex Pass                6195\n",
       "6         2017         Walk-up               37318\n",
       "4         2017    Monthly Pass              182495\n",
       "7         2018     Annual Pass                1188\n",
       "8         2018       Flex Pass                3713\n",
       "10        2018    One Day Pass                9600\n",
       "11        2018         Walk-up               68246\n",
       "9         2018    Monthly Pass              229147\n",
       "16        2019         Testing                  60\n",
       "13        2019       Flex Pass                 162\n",
       "15        2019    One Day Pass                8118\n",
       "12        2019     Annual Pass               12002\n",
       "17        2019         Walk-up               44426\n",
       "14        2019    Monthly Pass              225574\n",
       "21        2020         Testing                  17\n",
       "20        2020    One Day Pass               10677\n",
       "18        2020     Annual Pass               11151\n",
       "22        2020         Walk-up               21967\n",
       "19        2020    Monthly Pass              163586\n",
       "26        2021         Testing                   1\n",
       "23        2021     Annual Pass                9751\n",
       "25        2021    One Day Pass               12813\n",
       "27        2021         Walk-up               33335\n",
       "24        2021    Monthly Pass              129323"
      ]
     },
     "execution_count": 11,
     "metadata": {},
     "output_type": "execute_result"
    }
   ],
   "source": [
    "grupo__planes_anio = df.groupby([\n",
    "                  'start_year',\n",
    "                  'passholder_type', \n",
    "                  ]\n",
    "                  ).size()\n",
    "grupo_planes_anio_ordenado = grupo__planes_anio.to_frame().reset_index()\n",
    "grupo_planes_anio_ordenado.rename(columns = {0:'cantidad_de_planes'}, inplace = True)\n",
    "grupo_planes_anio_ordenado = grupo_planes_anio_ordenado.sort_values(\n",
    "    by = ['start_year', 'cantidad_de_planes'], ascending = True)\n",
    "grupo_planes_anio_ordenado"
   ]
  },
  {
   "cell_type": "code",
   "execution_count": 12,
   "metadata": {},
   "outputs": [
    {
     "name": "stdout",
     "output_type": "stream",
     "text": [
      "<class 'pandas.core.frame.DataFrame'>\n",
      "Index: 28 entries, 0 to 24\n",
      "Data columns (total 3 columns):\n",
      " #   Column              Non-Null Count  Dtype \n",
      "---  ------              --------------  ----- \n",
      " 0   start_year          28 non-null     int64 \n",
      " 1   passholder_type     28 non-null     object\n",
      " 2   cantidad_de_planes  28 non-null     int64 \n",
      "dtypes: int64(2), object(1)\n",
      "memory usage: 896.0+ bytes\n"
     ]
    }
   ],
   "source": [
    "grupo_planes_anio_ordenado.info()"
   ]
  },
  {
   "cell_type": "markdown",
   "metadata": {},
   "source": [
    "#### Guardando el dataset grupo_planes_anio_ordenado"
   ]
  },
  {
   "cell_type": "code",
   "execution_count": 13,
   "metadata": {},
   "outputs": [],
   "source": [
    "ruta_grupo_planes_anio_ordenado = './data/grupo_planes_anio_ordenado.csv'\n",
    "grupo_planes_anio_ordenado.to_csv(\n",
    "    ruta_grupo_planes_anio_ordenado,\n",
    "    sep = ',')"
   ]
  },
  {
   "cell_type": "code",
   "execution_count": 14,
   "metadata": {},
   "outputs": [
    {
     "data": {
      "application/vnd.plotly.v1+json": {
       "config": {
        "plotlyServerURL": "https://plot.ly"
       },
       "data": [
        {
         "hovertemplate": "Passholder Type=Flex Pass<br>Year=%{x}<br>Number of Plans=%{y}<extra></extra>",
         "legendgroup": "Flex Pass",
         "line": {
          "color": "#636efa",
          "dash": "solid"
         },
         "marker": {
          "symbol": "circle"
         },
         "mode": "lines+markers",
         "name": "Flex Pass",
         "orientation": "v",
         "showlegend": true,
         "type": "scatter",
         "x": [
          2016,
          2017,
          2018,
          2019
         ],
         "xaxis": "x",
         "y": [
          1534,
          6195,
          3713,
          162
         ],
         "yaxis": "y"
        },
        {
         "hovertemplate": "Passholder Type=Walk-up<br>Year=%{x}<br>Number of Plans=%{y}<extra></extra>",
         "legendgroup": "Walk-up",
         "line": {
          "color": "#EF553B",
          "dash": "solid"
         },
         "marker": {
          "symbol": "circle"
         },
         "mode": "lines+markers",
         "name": "Walk-up",
         "orientation": "v",
         "showlegend": true,
         "type": "scatter",
         "x": [
          2016,
          2017,
          2018,
          2019,
          2020,
          2021
         ],
         "xaxis": "x",
         "y": [
          7134,
          37318,
          68246,
          44426,
          21967,
          33335
         ],
         "yaxis": "y"
        },
        {
         "hovertemplate": "Passholder Type=Monthly Pass<br>Year=%{x}<br>Number of Plans=%{y}<extra></extra>",
         "legendgroup": "Monthly Pass",
         "line": {
          "color": "#00cc96",
          "dash": "solid"
         },
         "marker": {
          "symbol": "circle"
         },
         "mode": "lines+markers",
         "name": "Monthly Pass",
         "orientation": "v",
         "showlegend": true,
         "type": "scatter",
         "x": [
          2016,
          2017,
          2018,
          2019,
          2020,
          2021
         ],
         "xaxis": "x",
         "y": [
          34530,
          182495,
          229147,
          225574,
          163586,
          129323
         ],
         "yaxis": "y"
        },
        {
         "hovertemplate": "Passholder Type=One Day Pass<br>Year=%{x}<br>Number of Plans=%{y}<extra></extra>",
         "legendgroup": "One Day Pass",
         "line": {
          "color": "#ab63fa",
          "dash": "solid"
         },
         "marker": {
          "symbol": "circle"
         },
         "mode": "lines+markers",
         "name": "One Day Pass",
         "orientation": "v",
         "showlegend": true,
         "type": "scatter",
         "x": [
          2017,
          2018,
          2019,
          2020,
          2021
         ],
         "xaxis": "x",
         "y": [
          3247,
          9600,
          8118,
          10677,
          12813
         ],
         "yaxis": "y"
        },
        {
         "hovertemplate": "Passholder Type=Annual Pass<br>Year=%{x}<br>Number of Plans=%{y}<extra></extra>",
         "legendgroup": "Annual Pass",
         "line": {
          "color": "#FFA15A",
          "dash": "solid"
         },
         "marker": {
          "symbol": "circle"
         },
         "mode": "lines+markers",
         "name": "Annual Pass",
         "orientation": "v",
         "showlegend": true,
         "type": "scatter",
         "x": [
          2018,
          2019,
          2020,
          2021
         ],
         "xaxis": "x",
         "y": [
          1188,
          12002,
          11151,
          9751
         ],
         "yaxis": "y"
        },
        {
         "hovertemplate": "Passholder Type=Testing<br>Year=%{x}<br>Number of Plans=%{y}<extra></extra>",
         "legendgroup": "Testing",
         "line": {
          "color": "#19d3f3",
          "dash": "solid"
         },
         "marker": {
          "symbol": "circle"
         },
         "mode": "lines+markers",
         "name": "Testing",
         "orientation": "v",
         "showlegend": true,
         "type": "scatter",
         "x": [
          2019,
          2020,
          2021
         ],
         "xaxis": "x",
         "y": [
          60,
          17,
          1
         ],
         "yaxis": "y"
        }
       ],
       "layout": {
        "legend": {
         "title": {
          "text": "Passholder Type"
         },
         "tracegroupgap": 0
        },
        "template": {
         "data": {
          "bar": [
           {
            "error_x": {
             "color": "#2a3f5f"
            },
            "error_y": {
             "color": "#2a3f5f"
            },
            "marker": {
             "line": {
              "color": "#E5ECF6",
              "width": 0.5
             },
             "pattern": {
              "fillmode": "overlay",
              "size": 10,
              "solidity": 0.2
             }
            },
            "type": "bar"
           }
          ],
          "barpolar": [
           {
            "marker": {
             "line": {
              "color": "#E5ECF6",
              "width": 0.5
             },
             "pattern": {
              "fillmode": "overlay",
              "size": 10,
              "solidity": 0.2
             }
            },
            "type": "barpolar"
           }
          ],
          "carpet": [
           {
            "aaxis": {
             "endlinecolor": "#2a3f5f",
             "gridcolor": "white",
             "linecolor": "white",
             "minorgridcolor": "white",
             "startlinecolor": "#2a3f5f"
            },
            "baxis": {
             "endlinecolor": "#2a3f5f",
             "gridcolor": "white",
             "linecolor": "white",
             "minorgridcolor": "white",
             "startlinecolor": "#2a3f5f"
            },
            "type": "carpet"
           }
          ],
          "choropleth": [
           {
            "colorbar": {
             "outlinewidth": 0,
             "ticks": ""
            },
            "type": "choropleth"
           }
          ],
          "contour": [
           {
            "colorbar": {
             "outlinewidth": 0,
             "ticks": ""
            },
            "colorscale": [
             [
              0,
              "#0d0887"
             ],
             [
              0.1111111111111111,
              "#46039f"
             ],
             [
              0.2222222222222222,
              "#7201a8"
             ],
             [
              0.3333333333333333,
              "#9c179e"
             ],
             [
              0.4444444444444444,
              "#bd3786"
             ],
             [
              0.5555555555555556,
              "#d8576b"
             ],
             [
              0.6666666666666666,
              "#ed7953"
             ],
             [
              0.7777777777777778,
              "#fb9f3a"
             ],
             [
              0.8888888888888888,
              "#fdca26"
             ],
             [
              1,
              "#f0f921"
             ]
            ],
            "type": "contour"
           }
          ],
          "contourcarpet": [
           {
            "colorbar": {
             "outlinewidth": 0,
             "ticks": ""
            },
            "type": "contourcarpet"
           }
          ],
          "heatmap": [
           {
            "colorbar": {
             "outlinewidth": 0,
             "ticks": ""
            },
            "colorscale": [
             [
              0,
              "#0d0887"
             ],
             [
              0.1111111111111111,
              "#46039f"
             ],
             [
              0.2222222222222222,
              "#7201a8"
             ],
             [
              0.3333333333333333,
              "#9c179e"
             ],
             [
              0.4444444444444444,
              "#bd3786"
             ],
             [
              0.5555555555555556,
              "#d8576b"
             ],
             [
              0.6666666666666666,
              "#ed7953"
             ],
             [
              0.7777777777777778,
              "#fb9f3a"
             ],
             [
              0.8888888888888888,
              "#fdca26"
             ],
             [
              1,
              "#f0f921"
             ]
            ],
            "type": "heatmap"
           }
          ],
          "heatmapgl": [
           {
            "colorbar": {
             "outlinewidth": 0,
             "ticks": ""
            },
            "colorscale": [
             [
              0,
              "#0d0887"
             ],
             [
              0.1111111111111111,
              "#46039f"
             ],
             [
              0.2222222222222222,
              "#7201a8"
             ],
             [
              0.3333333333333333,
              "#9c179e"
             ],
             [
              0.4444444444444444,
              "#bd3786"
             ],
             [
              0.5555555555555556,
              "#d8576b"
             ],
             [
              0.6666666666666666,
              "#ed7953"
             ],
             [
              0.7777777777777778,
              "#fb9f3a"
             ],
             [
              0.8888888888888888,
              "#fdca26"
             ],
             [
              1,
              "#f0f921"
             ]
            ],
            "type": "heatmapgl"
           }
          ],
          "histogram": [
           {
            "marker": {
             "pattern": {
              "fillmode": "overlay",
              "size": 10,
              "solidity": 0.2
             }
            },
            "type": "histogram"
           }
          ],
          "histogram2d": [
           {
            "colorbar": {
             "outlinewidth": 0,
             "ticks": ""
            },
            "colorscale": [
             [
              0,
              "#0d0887"
             ],
             [
              0.1111111111111111,
              "#46039f"
             ],
             [
              0.2222222222222222,
              "#7201a8"
             ],
             [
              0.3333333333333333,
              "#9c179e"
             ],
             [
              0.4444444444444444,
              "#bd3786"
             ],
             [
              0.5555555555555556,
              "#d8576b"
             ],
             [
              0.6666666666666666,
              "#ed7953"
             ],
             [
              0.7777777777777778,
              "#fb9f3a"
             ],
             [
              0.8888888888888888,
              "#fdca26"
             ],
             [
              1,
              "#f0f921"
             ]
            ],
            "type": "histogram2d"
           }
          ],
          "histogram2dcontour": [
           {
            "colorbar": {
             "outlinewidth": 0,
             "ticks": ""
            },
            "colorscale": [
             [
              0,
              "#0d0887"
             ],
             [
              0.1111111111111111,
              "#46039f"
             ],
             [
              0.2222222222222222,
              "#7201a8"
             ],
             [
              0.3333333333333333,
              "#9c179e"
             ],
             [
              0.4444444444444444,
              "#bd3786"
             ],
             [
              0.5555555555555556,
              "#d8576b"
             ],
             [
              0.6666666666666666,
              "#ed7953"
             ],
             [
              0.7777777777777778,
              "#fb9f3a"
             ],
             [
              0.8888888888888888,
              "#fdca26"
             ],
             [
              1,
              "#f0f921"
             ]
            ],
            "type": "histogram2dcontour"
           }
          ],
          "mesh3d": [
           {
            "colorbar": {
             "outlinewidth": 0,
             "ticks": ""
            },
            "type": "mesh3d"
           }
          ],
          "parcoords": [
           {
            "line": {
             "colorbar": {
              "outlinewidth": 0,
              "ticks": ""
             }
            },
            "type": "parcoords"
           }
          ],
          "pie": [
           {
            "automargin": true,
            "type": "pie"
           }
          ],
          "scatter": [
           {
            "fillpattern": {
             "fillmode": "overlay",
             "size": 10,
             "solidity": 0.2
            },
            "type": "scatter"
           }
          ],
          "scatter3d": [
           {
            "line": {
             "colorbar": {
              "outlinewidth": 0,
              "ticks": ""
             }
            },
            "marker": {
             "colorbar": {
              "outlinewidth": 0,
              "ticks": ""
             }
            },
            "type": "scatter3d"
           }
          ],
          "scattercarpet": [
           {
            "marker": {
             "colorbar": {
              "outlinewidth": 0,
              "ticks": ""
             }
            },
            "type": "scattercarpet"
           }
          ],
          "scattergeo": [
           {
            "marker": {
             "colorbar": {
              "outlinewidth": 0,
              "ticks": ""
             }
            },
            "type": "scattergeo"
           }
          ],
          "scattergl": [
           {
            "marker": {
             "colorbar": {
              "outlinewidth": 0,
              "ticks": ""
             }
            },
            "type": "scattergl"
           }
          ],
          "scattermapbox": [
           {
            "marker": {
             "colorbar": {
              "outlinewidth": 0,
              "ticks": ""
             }
            },
            "type": "scattermapbox"
           }
          ],
          "scatterpolar": [
           {
            "marker": {
             "colorbar": {
              "outlinewidth": 0,
              "ticks": ""
             }
            },
            "type": "scatterpolar"
           }
          ],
          "scatterpolargl": [
           {
            "marker": {
             "colorbar": {
              "outlinewidth": 0,
              "ticks": ""
             }
            },
            "type": "scatterpolargl"
           }
          ],
          "scatterternary": [
           {
            "marker": {
             "colorbar": {
              "outlinewidth": 0,
              "ticks": ""
             }
            },
            "type": "scatterternary"
           }
          ],
          "surface": [
           {
            "colorbar": {
             "outlinewidth": 0,
             "ticks": ""
            },
            "colorscale": [
             [
              0,
              "#0d0887"
             ],
             [
              0.1111111111111111,
              "#46039f"
             ],
             [
              0.2222222222222222,
              "#7201a8"
             ],
             [
              0.3333333333333333,
              "#9c179e"
             ],
             [
              0.4444444444444444,
              "#bd3786"
             ],
             [
              0.5555555555555556,
              "#d8576b"
             ],
             [
              0.6666666666666666,
              "#ed7953"
             ],
             [
              0.7777777777777778,
              "#fb9f3a"
             ],
             [
              0.8888888888888888,
              "#fdca26"
             ],
             [
              1,
              "#f0f921"
             ]
            ],
            "type": "surface"
           }
          ],
          "table": [
           {
            "cells": {
             "fill": {
              "color": "#EBF0F8"
             },
             "line": {
              "color": "white"
             }
            },
            "header": {
             "fill": {
              "color": "#C8D4E3"
             },
             "line": {
              "color": "white"
             }
            },
            "type": "table"
           }
          ]
         },
         "layout": {
          "annotationdefaults": {
           "arrowcolor": "#2a3f5f",
           "arrowhead": 0,
           "arrowwidth": 1
          },
          "autotypenumbers": "strict",
          "coloraxis": {
           "colorbar": {
            "outlinewidth": 0,
            "ticks": ""
           }
          },
          "colorscale": {
           "diverging": [
            [
             0,
             "#8e0152"
            ],
            [
             0.1,
             "#c51b7d"
            ],
            [
             0.2,
             "#de77ae"
            ],
            [
             0.3,
             "#f1b6da"
            ],
            [
             0.4,
             "#fde0ef"
            ],
            [
             0.5,
             "#f7f7f7"
            ],
            [
             0.6,
             "#e6f5d0"
            ],
            [
             0.7,
             "#b8e186"
            ],
            [
             0.8,
             "#7fbc41"
            ],
            [
             0.9,
             "#4d9221"
            ],
            [
             1,
             "#276419"
            ]
           ],
           "sequential": [
            [
             0,
             "#0d0887"
            ],
            [
             0.1111111111111111,
             "#46039f"
            ],
            [
             0.2222222222222222,
             "#7201a8"
            ],
            [
             0.3333333333333333,
             "#9c179e"
            ],
            [
             0.4444444444444444,
             "#bd3786"
            ],
            [
             0.5555555555555556,
             "#d8576b"
            ],
            [
             0.6666666666666666,
             "#ed7953"
            ],
            [
             0.7777777777777778,
             "#fb9f3a"
            ],
            [
             0.8888888888888888,
             "#fdca26"
            ],
            [
             1,
             "#f0f921"
            ]
           ],
           "sequentialminus": [
            [
             0,
             "#0d0887"
            ],
            [
             0.1111111111111111,
             "#46039f"
            ],
            [
             0.2222222222222222,
             "#7201a8"
            ],
            [
             0.3333333333333333,
             "#9c179e"
            ],
            [
             0.4444444444444444,
             "#bd3786"
            ],
            [
             0.5555555555555556,
             "#d8576b"
            ],
            [
             0.6666666666666666,
             "#ed7953"
            ],
            [
             0.7777777777777778,
             "#fb9f3a"
            ],
            [
             0.8888888888888888,
             "#fdca26"
            ],
            [
             1,
             "#f0f921"
            ]
           ]
          },
          "colorway": [
           "#636efa",
           "#EF553B",
           "#00cc96",
           "#ab63fa",
           "#FFA15A",
           "#19d3f3",
           "#FF6692",
           "#B6E880",
           "#FF97FF",
           "#FECB52"
          ],
          "font": {
           "color": "#2a3f5f"
          },
          "geo": {
           "bgcolor": "white",
           "lakecolor": "white",
           "landcolor": "#E5ECF6",
           "showlakes": true,
           "showland": true,
           "subunitcolor": "white"
          },
          "hoverlabel": {
           "align": "left"
          },
          "hovermode": "closest",
          "mapbox": {
           "style": "light"
          },
          "paper_bgcolor": "white",
          "plot_bgcolor": "#E5ECF6",
          "polar": {
           "angularaxis": {
            "gridcolor": "white",
            "linecolor": "white",
            "ticks": ""
           },
           "bgcolor": "#E5ECF6",
           "radialaxis": {
            "gridcolor": "white",
            "linecolor": "white",
            "ticks": ""
           }
          },
          "scene": {
           "xaxis": {
            "backgroundcolor": "#E5ECF6",
            "gridcolor": "white",
            "gridwidth": 2,
            "linecolor": "white",
            "showbackground": true,
            "ticks": "",
            "zerolinecolor": "white"
           },
           "yaxis": {
            "backgroundcolor": "#E5ECF6",
            "gridcolor": "white",
            "gridwidth": 2,
            "linecolor": "white",
            "showbackground": true,
            "ticks": "",
            "zerolinecolor": "white"
           },
           "zaxis": {
            "backgroundcolor": "#E5ECF6",
            "gridcolor": "white",
            "gridwidth": 2,
            "linecolor": "white",
            "showbackground": true,
            "ticks": "",
            "zerolinecolor": "white"
           }
          },
          "shapedefaults": {
           "line": {
            "color": "#2a3f5f"
           }
          },
          "ternary": {
           "aaxis": {
            "gridcolor": "white",
            "linecolor": "white",
            "ticks": ""
           },
           "baxis": {
            "gridcolor": "white",
            "linecolor": "white",
            "ticks": ""
           },
           "bgcolor": "#E5ECF6",
           "caxis": {
            "gridcolor": "white",
            "linecolor": "white",
            "ticks": ""
           }
          },
          "title": {
           "x": 0.05
          },
          "xaxis": {
           "automargin": true,
           "gridcolor": "white",
           "linecolor": "white",
           "ticks": "",
           "title": {
            "standoff": 15
           },
           "zerolinecolor": "white",
           "zerolinewidth": 2
          },
          "yaxis": {
           "automargin": true,
           "gridcolor": "white",
           "linecolor": "white",
           "ticks": "",
           "title": {
            "standoff": 15
           },
           "zerolinecolor": "white",
           "zerolinewidth": 2
          }
         }
        },
        "title": {
         "text": "Number of Plans Over Time by Passholder Type"
        },
        "xaxis": {
         "anchor": "y",
         "domain": [
          0,
          1
         ],
         "title": {
          "text": "Year"
         }
        },
        "yaxis": {
         "anchor": "x",
         "domain": [
          0,
          1
         ],
         "title": {
          "text": "Number of Plans"
         }
        }
       }
      }
     },
     "metadata": {},
     "output_type": "display_data"
    }
   ],
   "source": [
    "# Create the time series plot\n",
    "fig = px.line(\n",
    "    grupo_planes_anio_ordenado,\n",
    "    x='start_year',\n",
    "    y='cantidad_de_planes',\n",
    "    color='passholder_type',  # Line for each passholder_type\n",
    "    markers=True,  # Add markers to the lines\n",
    "    labels={\n",
    "        'start_year': 'Year',\n",
    "        'cantidad_de_planes': 'Number of Plans',\n",
    "        'passholder_type': 'Passholder Type'\n",
    "    },\n",
    "    title='Number of Plans Over Time by Passholder Type'\n",
    ")\n",
    "\n",
    "# Customize layout (optional)\n",
    "fig.update_layout(\n",
    "    xaxis=dict(title='Year'),\n",
    "    yaxis=dict(title='Number of Plans'),\n",
    "    legend_title='Passholder Type'\n",
    ")\n"
   ]
  },
  {
   "cell_type": "code",
   "execution_count": 15,
   "metadata": {},
   "outputs": [
    {
     "data": {
      "text/html": [
       "<div>\n",
       "<style scoped>\n",
       "    .dataframe tbody tr th:only-of-type {\n",
       "        vertical-align: middle;\n",
       "    }\n",
       "\n",
       "    .dataframe tbody tr th {\n",
       "        vertical-align: top;\n",
       "    }\n",
       "\n",
       "    .dataframe thead th {\n",
       "        text-align: right;\n",
       "    }\n",
       "</style>\n",
       "<table border=\"1\" class=\"dataframe\">\n",
       "  <thead>\n",
       "    <tr style=\"text-align: right;\">\n",
       "      <th></th>\n",
       "      <th>start_year</th>\n",
       "      <th>cantidad_de_planes</th>\n",
       "    </tr>\n",
       "  </thead>\n",
       "  <tbody>\n",
       "    <tr>\n",
       "      <th>0</th>\n",
       "      <td>2016</td>\n",
       "      <td>43198</td>\n",
       "    </tr>\n",
       "    <tr>\n",
       "      <th>5</th>\n",
       "      <td>2021</td>\n",
       "      <td>185223</td>\n",
       "    </tr>\n",
       "    <tr>\n",
       "      <th>4</th>\n",
       "      <td>2020</td>\n",
       "      <td>207398</td>\n",
       "    </tr>\n",
       "    <tr>\n",
       "      <th>1</th>\n",
       "      <td>2017</td>\n",
       "      <td>229255</td>\n",
       "    </tr>\n",
       "    <tr>\n",
       "      <th>3</th>\n",
       "      <td>2019</td>\n",
       "      <td>290342</td>\n",
       "    </tr>\n",
       "    <tr>\n",
       "      <th>2</th>\n",
       "      <td>2018</td>\n",
       "      <td>311894</td>\n",
       "    </tr>\n",
       "  </tbody>\n",
       "</table>\n",
       "</div>"
      ],
      "text/plain": [
       "   start_year  cantidad_de_planes\n",
       "0        2016               43198\n",
       "5        2021              185223\n",
       "4        2020              207398\n",
       "1        2017              229255\n",
       "3        2019              290342\n",
       "2        2018              311894"
      ]
     },
     "execution_count": 15,
     "metadata": {},
     "output_type": "execute_result"
    }
   ],
   "source": [
    "total_planes_por_anio = grupo_planes_anio_ordenado.groupby(\n",
    "    'start_year')['cantidad_de_planes'].sum().to_frame().reset_index()\n",
    "total_planes_por_anio = total_planes_por_anio.sort_values(\n",
    "    by = 'cantidad_de_planes', ascending=True)\n",
    "total_planes_por_anio"
   ]
  },
  {
   "cell_type": "markdown",
   "metadata": {},
   "source": [
    "### Crear un grafo con plotly"
   ]
  },
  {
   "cell_type": "code",
   "execution_count": 17,
   "metadata": {},
   "outputs": [],
   "source": [
    "# # Initialize an empty graph\n",
    "# G = nx.Graph()\n",
    "# # Add edges between start and end stations\n",
    "# for _, row in df.iterrows():\n",
    "#     G.add_edge(row['start_station'], row['end_station'])\n",
    "\n",
    "# # Draw the graph\n",
    "# plt.figure(figsize=(8, 6))\n",
    "# nx.draw(G, with_labels=True, node_size=2000, node_color='skyblue', font_size=12, font_weight='bold', edge_color='gray')\n",
    "# plt.title(\"Connections Between Start and End Stations\")\n",
    "# plt.show()"
   ]
  },
  {
   "cell_type": "markdown",
   "metadata": {},
   "source": [
    "### Observando la relación entre la variables Plan duration con respecto a la variable objetivo"
   ]
  },
  {
   "cell_type": "code",
   "execution_count": 19,
   "metadata": {},
   "outputs": [
    {
     "data": {
      "text/html": [
       "<div>\n",
       "<style scoped>\n",
       "    .dataframe tbody tr th:only-of-type {\n",
       "        vertical-align: middle;\n",
       "    }\n",
       "\n",
       "    .dataframe tbody tr th {\n",
       "        vertical-align: top;\n",
       "    }\n",
       "\n",
       "    .dataframe thead th {\n",
       "        text-align: right;\n",
       "    }\n",
       "</style>\n",
       "<table border=\"1\" class=\"dataframe\">\n",
       "  <thead>\n",
       "    <tr style=\"text-align: right;\">\n",
       "      <th></th>\n",
       "      <th>trip_id</th>\n",
       "      <th>duration</th>\n",
       "      <th>start_time</th>\n",
       "      <th>end_time</th>\n",
       "      <th>start_lat</th>\n",
       "      <th>start_lon</th>\n",
       "      <th>end_lat</th>\n",
       "      <th>end_lon</th>\n",
       "      <th>bike_id</th>\n",
       "      <th>plan_duration</th>\n",
       "      <th>trip_route_category</th>\n",
       "      <th>passholder_type</th>\n",
       "      <th>start_station</th>\n",
       "      <th>end_station</th>\n",
       "    </tr>\n",
       "  </thead>\n",
       "  <tbody>\n",
       "    <tr>\n",
       "      <th>0</th>\n",
       "      <td>101750280</td>\n",
       "      <td>35</td>\n",
       "      <td>2018-08-07 11:20:00</td>\n",
       "      <td>2018-08-07 11:55:00</td>\n",
       "      <td>33.748920</td>\n",
       "      <td>-118.275192</td>\n",
       "      <td>33.748920</td>\n",
       "      <td>-118.275192</td>\n",
       "      <td>06530</td>\n",
       "      <td>1.0</td>\n",
       "      <td>Round Trip</td>\n",
       "      <td>Walk-up</td>\n",
       "      <td>4127</td>\n",
       "      <td>4127</td>\n",
       "    </tr>\n",
       "    <tr>\n",
       "      <th>1</th>\n",
       "      <td>46560345</td>\n",
       "      <td>32</td>\n",
       "      <td>9/17/2017 17:51</td>\n",
       "      <td>9/17/2017 18:23</td>\n",
       "      <td>34.035679</td>\n",
       "      <td>-118.270813</td>\n",
       "      <td>34.047749</td>\n",
       "      <td>-118.243172</td>\n",
       "      <td>6683</td>\n",
       "      <td>0.0</td>\n",
       "      <td>One Way</td>\n",
       "      <td>Walk-up</td>\n",
       "      <td>3057</td>\n",
       "      <td>3062</td>\n",
       "    </tr>\n",
       "    <tr>\n",
       "      <th>2</th>\n",
       "      <td>120016336</td>\n",
       "      <td>6</td>\n",
       "      <td>2019-04-22 09:22:00</td>\n",
       "      <td>2019-04-22 09:28:00</td>\n",
       "      <td>34.046070</td>\n",
       "      <td>-118.233093</td>\n",
       "      <td>34.047749</td>\n",
       "      <td>-118.243172</td>\n",
       "      <td>06710</td>\n",
       "      <td>30.0</td>\n",
       "      <td>One Way</td>\n",
       "      <td>Monthly Pass</td>\n",
       "      <td>3022</td>\n",
       "      <td>3062</td>\n",
       "    </tr>\n",
       "    <tr>\n",
       "      <th>3</th>\n",
       "      <td>129547190</td>\n",
       "      <td>138</td>\n",
       "      <td>9/22/2019 11:27</td>\n",
       "      <td>9/22/2019 13:45</td>\n",
       "      <td>34.062580</td>\n",
       "      <td>-118.290092</td>\n",
       "      <td>34.059689</td>\n",
       "      <td>-118.294662</td>\n",
       "      <td>17068</td>\n",
       "      <td>1.0</td>\n",
       "      <td>One Way</td>\n",
       "      <td>One Day Pass</td>\n",
       "      <td>4304</td>\n",
       "      <td>4311</td>\n",
       "    </tr>\n",
       "    <tr>\n",
       "      <th>4</th>\n",
       "      <td>136619463</td>\n",
       "      <td>14</td>\n",
       "      <td>1/31/2020 17:11</td>\n",
       "      <td>1/31/2020 17:25</td>\n",
       "      <td>34.026291</td>\n",
       "      <td>-118.277687</td>\n",
       "      <td>34.021660</td>\n",
       "      <td>-118.278687</td>\n",
       "      <td>18841</td>\n",
       "      <td>30.0</td>\n",
       "      <td>One Way</td>\n",
       "      <td>Monthly Pass</td>\n",
       "      <td>4266</td>\n",
       "      <td>4443</td>\n",
       "    </tr>\n",
       "  </tbody>\n",
       "</table>\n",
       "</div>"
      ],
      "text/plain": [
       "     trip_id  duration           start_time             end_time  start_lat  \\\n",
       "0  101750280        35  2018-08-07 11:20:00  2018-08-07 11:55:00  33.748920   \n",
       "1   46560345        32      9/17/2017 17:51      9/17/2017 18:23  34.035679   \n",
       "2  120016336         6  2019-04-22 09:22:00  2019-04-22 09:28:00  34.046070   \n",
       "3  129547190       138      9/22/2019 11:27      9/22/2019 13:45  34.062580   \n",
       "4  136619463        14      1/31/2020 17:11      1/31/2020 17:25  34.026291   \n",
       "\n",
       "    start_lon    end_lat     end_lon bike_id  plan_duration  \\\n",
       "0 -118.275192  33.748920 -118.275192   06530            1.0   \n",
       "1 -118.270813  34.047749 -118.243172    6683            0.0   \n",
       "2 -118.233093  34.047749 -118.243172   06710           30.0   \n",
       "3 -118.290092  34.059689 -118.294662   17068            1.0   \n",
       "4 -118.277687  34.021660 -118.278687   18841           30.0   \n",
       "\n",
       "  trip_route_category passholder_type  start_station  end_station  \n",
       "0          Round Trip         Walk-up           4127         4127  \n",
       "1             One Way         Walk-up           3057         3062  \n",
       "2             One Way    Monthly Pass           3022         3062  \n",
       "3             One Way    One Day Pass           4304         4311  \n",
       "4             One Way    Monthly Pass           4266         4443  "
      ]
     },
     "execution_count": 19,
     "metadata": {},
     "output_type": "execute_result"
    }
   ],
   "source": [
    "df_train.head()"
   ]
  },
  {
   "cell_type": "code",
   "execution_count": 21,
   "metadata": {},
   "outputs": [
    {
     "data": {
      "image/png": "[encoded data removed]",
      "text/plain": [
       "<Figure size 640x480 with 1 Axes>"
      ]
     },
     "metadata": {},
     "output_type": "display_data"
    }
   ],
   "source": [
    "# Box plot\n",
    "sns.barplot(x='passholder_type', y='plan_duration', data= df_train)\n",
    "plt.title(\"Box Plot\")\n",
    "plt.show()"
   ]
  }
 ],
 "metadata": {
  "kernelspec": {
   "display_name": "arkon_data_env",
   "language": "python",
   "name": "python3"
  },
  "language_info": {
   "codemirror_mode": {
    "name": "ipython",
    "version": 3
   },
   "file_extension": ".py",
   "mimetype": "text/x-python",
   "name": "python",
   "nbconvert_exporter": "python",
   "pygments_lexer": "ipython3",
   "version": "3.10.9"
  }
 },
 "nbformat": 4,
 "nbformat_minor": 2
}
