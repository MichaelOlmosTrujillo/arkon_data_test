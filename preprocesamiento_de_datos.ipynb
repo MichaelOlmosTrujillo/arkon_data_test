{
 "cells": [
  {
   "cell_type": "code",
   "execution_count": 178,
   "metadata": {},
   "outputs": [],
   "source": [
    "import pandas as pd\n",
    "import networkx as nx\n",
    "import matplotlib.pyplot as plt"
   ]
  },
  {
   "cell_type": "code",
   "execution_count": 179,
   "metadata": {},
   "outputs": [],
   "source": [
    "pd.set_option('display.max_columns', None)\n",
    "pd.set_option('display.max_rows', None)"
   ]
  },
  {
   "cell_type": "code",
   "execution_count": 180,
   "metadata": {},
   "outputs": [
    {
     "name": "stderr",
     "output_type": "stream",
     "text": [
      "C:\\Users\\Michael_PC\\AppData\\Local\\Temp\\ipykernel_7460\\225298508.py:4: DtypeWarning: Columns (8) have mixed types. Specify dtype option on import or set low_memory=False.\n",
      "  df_train= pd.read_csv(ruta_train, sep = ',', index_col=0)\n",
      "C:\\Users\\Michael_PC\\AppData\\Local\\Temp\\ipykernel_7460\\225298508.py:5: DtypeWarning: Columns (8) have mixed types. Specify dtype option on import or set low_memory=False.\n",
      "  df_test = pd.read_csv(ruta_test, sep = ',', index_col=0)\n"
     ]
    }
   ],
   "source": [
    "ruta_train = './data/train_set.csv'\n",
    "ruta_test = './data/test_set.csv'\n",
    "ruta_y_pred = './data/sample_submission.csv'\n",
    "df_train= pd.read_csv(ruta_train, sep = ',', index_col=0)\n",
    "df_test = pd.read_csv(ruta_test, sep = ',', index_col=0)\n",
    "df_y_test = pd.read_csv(ruta_y_pred, sep = ',', index_col=0)"
   ]
  },
  {
   "cell_type": "code",
   "execution_count": 181,
   "metadata": {},
   "outputs": [
    {
     "data": {
      "text/html": [
       "<div>\n",
       "<style scoped>\n",
       "    .dataframe tbody tr th:only-of-type {\n",
       "        vertical-align: middle;\n",
       "    }\n",
       "\n",
       "    .dataframe tbody tr th {\n",
       "        vertical-align: top;\n",
       "    }\n",
       "\n",
       "    .dataframe thead th {\n",
       "        text-align: right;\n",
       "    }\n",
       "</style>\n",
       "<table border=\"1\" class=\"dataframe\">\n",
       "  <thead>\n",
       "    <tr style=\"text-align: right;\">\n",
       "      <th></th>\n",
       "      <th>duration</th>\n",
       "      <th>start_time</th>\n",
       "      <th>end_time</th>\n",
       "      <th>start_lat</th>\n",
       "      <th>start_lon</th>\n",
       "      <th>end_lat</th>\n",
       "      <th>end_lon</th>\n",
       "      <th>bike_id</th>\n",
       "      <th>plan_duration</th>\n",
       "      <th>trip_route_category</th>\n",
       "      <th>passholder_type</th>\n",
       "      <th>start_station</th>\n",
       "      <th>end_station</th>\n",
       "    </tr>\n",
       "    <tr>\n",
       "      <th>trip_id</th>\n",
       "      <th></th>\n",
       "      <th></th>\n",
       "      <th></th>\n",
       "      <th></th>\n",
       "      <th></th>\n",
       "      <th></th>\n",
       "      <th></th>\n",
       "      <th></th>\n",
       "      <th></th>\n",
       "      <th></th>\n",
       "      <th></th>\n",
       "      <th></th>\n",
       "      <th></th>\n",
       "    </tr>\n",
       "  </thead>\n",
       "  <tbody>\n",
       "    <tr>\n",
       "      <th>101750280</th>\n",
       "      <td>35</td>\n",
       "      <td>2018-08-07 11:20:00</td>\n",
       "      <td>2018-08-07 11:55:00</td>\n",
       "      <td>33.748920</td>\n",
       "      <td>-118.275192</td>\n",
       "      <td>33.748920</td>\n",
       "      <td>-118.275192</td>\n",
       "      <td>06530</td>\n",
       "      <td>1.0</td>\n",
       "      <td>Round Trip</td>\n",
       "      <td>Walk-up</td>\n",
       "      <td>4127</td>\n",
       "      <td>4127</td>\n",
       "    </tr>\n",
       "    <tr>\n",
       "      <th>46560345</th>\n",
       "      <td>32</td>\n",
       "      <td>9/17/2017 17:51</td>\n",
       "      <td>9/17/2017 18:23</td>\n",
       "      <td>34.035679</td>\n",
       "      <td>-118.270813</td>\n",
       "      <td>34.047749</td>\n",
       "      <td>-118.243172</td>\n",
       "      <td>6683</td>\n",
       "      <td>0.0</td>\n",
       "      <td>One Way</td>\n",
       "      <td>Walk-up</td>\n",
       "      <td>3057</td>\n",
       "      <td>3062</td>\n",
       "    </tr>\n",
       "    <tr>\n",
       "      <th>120016336</th>\n",
       "      <td>6</td>\n",
       "      <td>2019-04-22 09:22:00</td>\n",
       "      <td>2019-04-22 09:28:00</td>\n",
       "      <td>34.046070</td>\n",
       "      <td>-118.233093</td>\n",
       "      <td>34.047749</td>\n",
       "      <td>-118.243172</td>\n",
       "      <td>06710</td>\n",
       "      <td>30.0</td>\n",
       "      <td>One Way</td>\n",
       "      <td>Monthly Pass</td>\n",
       "      <td>3022</td>\n",
       "      <td>3062</td>\n",
       "    </tr>\n",
       "    <tr>\n",
       "      <th>129547190</th>\n",
       "      <td>138</td>\n",
       "      <td>9/22/2019 11:27</td>\n",
       "      <td>9/22/2019 13:45</td>\n",
       "      <td>34.062580</td>\n",
       "      <td>-118.290092</td>\n",
       "      <td>34.059689</td>\n",
       "      <td>-118.294662</td>\n",
       "      <td>17068</td>\n",
       "      <td>1.0</td>\n",
       "      <td>One Way</td>\n",
       "      <td>One Day Pass</td>\n",
       "      <td>4304</td>\n",
       "      <td>4311</td>\n",
       "    </tr>\n",
       "    <tr>\n",
       "      <th>136619463</th>\n",
       "      <td>14</td>\n",
       "      <td>1/31/2020 17:11</td>\n",
       "      <td>1/31/2020 17:25</td>\n",
       "      <td>34.026291</td>\n",
       "      <td>-118.277687</td>\n",
       "      <td>34.021660</td>\n",
       "      <td>-118.278687</td>\n",
       "      <td>18841</td>\n",
       "      <td>30.0</td>\n",
       "      <td>One Way</td>\n",
       "      <td>Monthly Pass</td>\n",
       "      <td>4266</td>\n",
       "      <td>4443</td>\n",
       "    </tr>\n",
       "  </tbody>\n",
       "</table>\n",
       "</div>"
      ],
      "text/plain": [
       "           duration           start_time             end_time  start_lat  \\\n",
       "trip_id                                                                    \n",
       "101750280        35  2018-08-07 11:20:00  2018-08-07 11:55:00  33.748920   \n",
       "46560345         32      9/17/2017 17:51      9/17/2017 18:23  34.035679   \n",
       "120016336         6  2019-04-22 09:22:00  2019-04-22 09:28:00  34.046070   \n",
       "129547190       138      9/22/2019 11:27      9/22/2019 13:45  34.062580   \n",
       "136619463        14      1/31/2020 17:11      1/31/2020 17:25  34.026291   \n",
       "\n",
       "            start_lon    end_lat     end_lon bike_id  plan_duration  \\\n",
       "trip_id                                                               \n",
       "101750280 -118.275192  33.748920 -118.275192   06530            1.0   \n",
       "46560345  -118.270813  34.047749 -118.243172    6683            0.0   \n",
       "120016336 -118.233093  34.047749 -118.243172   06710           30.0   \n",
       "129547190 -118.290092  34.059689 -118.294662   17068            1.0   \n",
       "136619463 -118.277687  34.021660 -118.278687   18841           30.0   \n",
       "\n",
       "          trip_route_category passholder_type  start_station  end_station  \n",
       "trip_id                                                                    \n",
       "101750280          Round Trip         Walk-up           4127         4127  \n",
       "46560345              One Way         Walk-up           3057         3062  \n",
       "120016336             One Way    Monthly Pass           3022         3062  \n",
       "129547190             One Way    One Day Pass           4304         4311  \n",
       "136619463             One Way    Monthly Pass           4266         4443  "
      ]
     },
     "execution_count": 181,
     "metadata": {},
     "output_type": "execute_result"
    }
   ],
   "source": [
    "df_train.head()"
   ]
  },
  {
   "cell_type": "code",
   "execution_count": 182,
   "metadata": {},
   "outputs": [
    {
     "data": {
      "text/html": [
       "<div>\n",
       "<style scoped>\n",
       "    .dataframe tbody tr th:only-of-type {\n",
       "        vertical-align: middle;\n",
       "    }\n",
       "\n",
       "    .dataframe tbody tr th {\n",
       "        vertical-align: top;\n",
       "    }\n",
       "\n",
       "    .dataframe thead th {\n",
       "        text-align: right;\n",
       "    }\n",
       "</style>\n",
       "<table border=\"1\" class=\"dataframe\">\n",
       "  <thead>\n",
       "    <tr style=\"text-align: right;\">\n",
       "      <th></th>\n",
       "      <th>duration</th>\n",
       "      <th>start_time</th>\n",
       "      <th>end_time</th>\n",
       "      <th>start_lat</th>\n",
       "      <th>start_lon</th>\n",
       "      <th>end_lat</th>\n",
       "      <th>end_lon</th>\n",
       "      <th>bike_id</th>\n",
       "      <th>trip_route_category</th>\n",
       "      <th>start_station</th>\n",
       "      <th>end_station</th>\n",
       "    </tr>\n",
       "    <tr>\n",
       "      <th>trip_id</th>\n",
       "      <th></th>\n",
       "      <th></th>\n",
       "      <th></th>\n",
       "      <th></th>\n",
       "      <th></th>\n",
       "      <th></th>\n",
       "      <th></th>\n",
       "      <th></th>\n",
       "      <th></th>\n",
       "      <th></th>\n",
       "      <th></th>\n",
       "    </tr>\n",
       "  </thead>\n",
       "  <tbody>\n",
       "    <tr>\n",
       "      <th>17059130</th>\n",
       "      <td>12</td>\n",
       "      <td>1/1/2017 0:24</td>\n",
       "      <td>1/1/2017 0:36</td>\n",
       "      <td>34.058319</td>\n",
       "      <td>-118.246094</td>\n",
       "      <td>34.058319</td>\n",
       "      <td>-118.246094</td>\n",
       "      <td>6351</td>\n",
       "      <td>Round Trip</td>\n",
       "      <td>3028</td>\n",
       "      <td>3028</td>\n",
       "    </tr>\n",
       "    <tr>\n",
       "      <th>17059129</th>\n",
       "      <td>17</td>\n",
       "      <td>1/1/2017 0:28</td>\n",
       "      <td>1/1/2017 0:45</td>\n",
       "      <td>34.049980</td>\n",
       "      <td>-118.247162</td>\n",
       "      <td>34.043732</td>\n",
       "      <td>-118.260139</td>\n",
       "      <td>5836</td>\n",
       "      <td>One Way</td>\n",
       "      <td>3027</td>\n",
       "      <td>3018</td>\n",
       "    </tr>\n",
       "    <tr>\n",
       "      <th>17059126</th>\n",
       "      <td>20</td>\n",
       "      <td>1/1/2017 0:39</td>\n",
       "      <td>1/1/2017 0:59</td>\n",
       "      <td>34.063389</td>\n",
       "      <td>-118.236160</td>\n",
       "      <td>34.044159</td>\n",
       "      <td>-118.251579</td>\n",
       "      <td>6529</td>\n",
       "      <td>One Way</td>\n",
       "      <td>3066</td>\n",
       "      <td>3055</td>\n",
       "    </tr>\n",
       "    <tr>\n",
       "      <th>17059125</th>\n",
       "      <td>12</td>\n",
       "      <td>1/1/2017 0:43</td>\n",
       "      <td>1/1/2017 0:55</td>\n",
       "      <td>34.048851</td>\n",
       "      <td>-118.246422</td>\n",
       "      <td>34.050140</td>\n",
       "      <td>-118.233238</td>\n",
       "      <td>6029</td>\n",
       "      <td>One Way</td>\n",
       "      <td>3029</td>\n",
       "      <td>3079</td>\n",
       "    </tr>\n",
       "    <tr>\n",
       "      <th>17061379</th>\n",
       "      <td>48</td>\n",
       "      <td>1/1/2017 0:56</td>\n",
       "      <td>1/1/2017 1:44</td>\n",
       "      <td>34.049198</td>\n",
       "      <td>-118.252831</td>\n",
       "      <td>34.049198</td>\n",
       "      <td>-118.252831</td>\n",
       "      <td>6680</td>\n",
       "      <td>Round Trip</td>\n",
       "      <td>3063</td>\n",
       "      <td>3063</td>\n",
       "    </tr>\n",
       "  </tbody>\n",
       "</table>\n",
       "</div>"
      ],
      "text/plain": [
       "          duration     start_time       end_time  start_lat   start_lon  \\\n",
       "trip_id                                                                   \n",
       "17059130        12  1/1/2017 0:24  1/1/2017 0:36  34.058319 -118.246094   \n",
       "17059129        17  1/1/2017 0:28  1/1/2017 0:45  34.049980 -118.247162   \n",
       "17059126        20  1/1/2017 0:39  1/1/2017 0:59  34.063389 -118.236160   \n",
       "17059125        12  1/1/2017 0:43  1/1/2017 0:55  34.048851 -118.246422   \n",
       "17061379        48  1/1/2017 0:56  1/1/2017 1:44  34.049198 -118.252831   \n",
       "\n",
       "            end_lat     end_lon bike_id trip_route_category  start_station  \\\n",
       "trip_id                                                                      \n",
       "17059130  34.058319 -118.246094    6351          Round Trip           3028   \n",
       "17059129  34.043732 -118.260139    5836             One Way           3027   \n",
       "17059126  34.044159 -118.251579    6529             One Way           3066   \n",
       "17059125  34.050140 -118.233238    6029             One Way           3029   \n",
       "17061379  34.049198 -118.252831    6680          Round Trip           3063   \n",
       "\n",
       "          end_station  \n",
       "trip_id                \n",
       "17059130         3028  \n",
       "17059129         3018  \n",
       "17059126         3055  \n",
       "17059125         3079  \n",
       "17061379         3063  "
      ]
     },
     "execution_count": 182,
     "metadata": {},
     "output_type": "execute_result"
    }
   ],
   "source": [
    "df_test.head()"
   ]
  },
  {
   "cell_type": "code",
   "execution_count": 183,
   "metadata": {},
   "outputs": [
    {
     "data": {
      "text/plain": [
       "((700000, 13), (569886, 11))"
      ]
     },
     "execution_count": 183,
     "metadata": {},
     "output_type": "execute_result"
    }
   ],
   "source": [
    "df_train.shape, df_test.shape"
   ]
  },
  {
   "cell_type": "markdown",
   "metadata": {},
   "source": [
    "#### Columnas que están en el df_train y que no están en df_test"
   ]
  },
  {
   "cell_type": "code",
   "execution_count": 184,
   "metadata": {},
   "outputs": [
    {
     "data": {
      "text/plain": [
       "{'passholder_type', 'plan_duration'}"
      ]
     },
     "execution_count": 184,
     "metadata": {},
     "output_type": "execute_result"
    }
   ],
   "source": [
    "set(df_train.columns) - set(df_test.columns)"
   ]
  },
  {
   "cell_type": "markdown",
   "metadata": {},
   "source": [
    "### adicionando la variable objetivo al conjunto de testeo"
   ]
  },
  {
   "cell_type": "code",
   "execution_count": 185,
   "metadata": {},
   "outputs": [
    {
     "data": {
      "text/html": [
       "<div>\n",
       "<style scoped>\n",
       "    .dataframe tbody tr th:only-of-type {\n",
       "        vertical-align: middle;\n",
       "    }\n",
       "\n",
       "    .dataframe tbody tr th {\n",
       "        vertical-align: top;\n",
       "    }\n",
       "\n",
       "    .dataframe thead th {\n",
       "        text-align: right;\n",
       "    }\n",
       "</style>\n",
       "<table border=\"1\" class=\"dataframe\">\n",
       "  <thead>\n",
       "    <tr style=\"text-align: right;\">\n",
       "      <th></th>\n",
       "      <th>duration</th>\n",
       "      <th>start_time</th>\n",
       "      <th>end_time</th>\n",
       "      <th>start_lat</th>\n",
       "      <th>start_lon</th>\n",
       "      <th>end_lat</th>\n",
       "      <th>end_lon</th>\n",
       "      <th>bike_id</th>\n",
       "      <th>trip_route_category</th>\n",
       "      <th>start_station</th>\n",
       "      <th>end_station</th>\n",
       "      <th>passholder_type</th>\n",
       "    </tr>\n",
       "    <tr>\n",
       "      <th>trip_id</th>\n",
       "      <th></th>\n",
       "      <th></th>\n",
       "      <th></th>\n",
       "      <th></th>\n",
       "      <th></th>\n",
       "      <th></th>\n",
       "      <th></th>\n",
       "      <th></th>\n",
       "      <th></th>\n",
       "      <th></th>\n",
       "      <th></th>\n",
       "      <th></th>\n",
       "    </tr>\n",
       "  </thead>\n",
       "  <tbody>\n",
       "    <tr>\n",
       "      <th>17059130</th>\n",
       "      <td>12</td>\n",
       "      <td>1/1/2017 0:24</td>\n",
       "      <td>1/1/2017 0:36</td>\n",
       "      <td>34.058319</td>\n",
       "      <td>-118.246094</td>\n",
       "      <td>34.058319</td>\n",
       "      <td>-118.246094</td>\n",
       "      <td>6351</td>\n",
       "      <td>Round Trip</td>\n",
       "      <td>3028</td>\n",
       "      <td>3028</td>\n",
       "      <td>Monthly Pass</td>\n",
       "    </tr>\n",
       "    <tr>\n",
       "      <th>17059129</th>\n",
       "      <td>17</td>\n",
       "      <td>1/1/2017 0:28</td>\n",
       "      <td>1/1/2017 0:45</td>\n",
       "      <td>34.049980</td>\n",
       "      <td>-118.247162</td>\n",
       "      <td>34.043732</td>\n",
       "      <td>-118.260139</td>\n",
       "      <td>5836</td>\n",
       "      <td>One Way</td>\n",
       "      <td>3027</td>\n",
       "      <td>3018</td>\n",
       "      <td>Monthly Pass</td>\n",
       "    </tr>\n",
       "    <tr>\n",
       "      <th>17059126</th>\n",
       "      <td>20</td>\n",
       "      <td>1/1/2017 0:39</td>\n",
       "      <td>1/1/2017 0:59</td>\n",
       "      <td>34.063389</td>\n",
       "      <td>-118.236160</td>\n",
       "      <td>34.044159</td>\n",
       "      <td>-118.251579</td>\n",
       "      <td>6529</td>\n",
       "      <td>One Way</td>\n",
       "      <td>3066</td>\n",
       "      <td>3055</td>\n",
       "      <td>Monthly Pass</td>\n",
       "    </tr>\n",
       "    <tr>\n",
       "      <th>17059125</th>\n",
       "      <td>12</td>\n",
       "      <td>1/1/2017 0:43</td>\n",
       "      <td>1/1/2017 0:55</td>\n",
       "      <td>34.048851</td>\n",
       "      <td>-118.246422</td>\n",
       "      <td>34.050140</td>\n",
       "      <td>-118.233238</td>\n",
       "      <td>6029</td>\n",
       "      <td>One Way</td>\n",
       "      <td>3029</td>\n",
       "      <td>3079</td>\n",
       "      <td>Monthly Pass</td>\n",
       "    </tr>\n",
       "    <tr>\n",
       "      <th>17061379</th>\n",
       "      <td>48</td>\n",
       "      <td>1/1/2017 0:56</td>\n",
       "      <td>1/1/2017 1:44</td>\n",
       "      <td>34.049198</td>\n",
       "      <td>-118.252831</td>\n",
       "      <td>34.049198</td>\n",
       "      <td>-118.252831</td>\n",
       "      <td>6680</td>\n",
       "      <td>Round Trip</td>\n",
       "      <td>3063</td>\n",
       "      <td>3063</td>\n",
       "      <td>Monthly Pass</td>\n",
       "    </tr>\n",
       "  </tbody>\n",
       "</table>\n",
       "</div>"
      ],
      "text/plain": [
       "          duration     start_time       end_time  start_lat   start_lon  \\\n",
       "trip_id                                                                   \n",
       "17059130        12  1/1/2017 0:24  1/1/2017 0:36  34.058319 -118.246094   \n",
       "17059129        17  1/1/2017 0:28  1/1/2017 0:45  34.049980 -118.247162   \n",
       "17059126        20  1/1/2017 0:39  1/1/2017 0:59  34.063389 -118.236160   \n",
       "17059125        12  1/1/2017 0:43  1/1/2017 0:55  34.048851 -118.246422   \n",
       "17061379        48  1/1/2017 0:56  1/1/2017 1:44  34.049198 -118.252831   \n",
       "\n",
       "            end_lat     end_lon bike_id trip_route_category  start_station  \\\n",
       "trip_id                                                                      \n",
       "17059130  34.058319 -118.246094    6351          Round Trip           3028   \n",
       "17059129  34.043732 -118.260139    5836             One Way           3027   \n",
       "17059126  34.044159 -118.251579    6529             One Way           3066   \n",
       "17059125  34.050140 -118.233238    6029             One Way           3029   \n",
       "17061379  34.049198 -118.252831    6680          Round Trip           3063   \n",
       "\n",
       "          end_station passholder_type  \n",
       "trip_id                                \n",
       "17059130         3028    Monthly Pass  \n",
       "17059129         3018    Monthly Pass  \n",
       "17059126         3055    Monthly Pass  \n",
       "17059125         3079    Monthly Pass  \n",
       "17061379         3063    Monthly Pass  "
      ]
     },
     "execution_count": 185,
     "metadata": {},
     "output_type": "execute_result"
    }
   ],
   "source": [
    "df_test = pd.merge(df_test, df_y_test, on = 'trip_id', how = 'inner')\n",
    "df_test.head()"
   ]
  },
  {
   "cell_type": "markdown",
   "metadata": {},
   "source": [
    "### Tratamiento de la variable bike_id"
   ]
  },
  {
   "cell_type": "code",
   "execution_count": 186,
   "metadata": {},
   "outputs": [
    {
     "name": "stdout",
     "output_type": "stream",
     "text": [
      "Non-numeric rows:\n"
     ]
    },
    {
     "data": {
      "text/plain": [
       "{'15111a',\n",
       " '16015a',\n",
       " 'Dock Block 1',\n",
       " 'Dock Block 2',\n",
       " 'Rblock',\n",
       " 'TBlocker_Slash',\n",
       " '_Test_RFID'}"
      ]
     },
     "execution_count": 186,
     "metadata": {},
     "output_type": "execute_result"
    }
   ],
   "source": [
    "non_numeric_rows = df_train[\n",
    "    pd.to_numeric(df_train['bike_id'], errors='coerce').isna()]\n",
    "\n",
    "print(\"Non-numeric rows:\")\n",
    "non_numeric_rows.shape\n",
    "set(non_numeric_rows['bike_id'])"
   ]
  },
  {
   "cell_type": "code",
   "execution_count": 187,
   "metadata": {},
   "outputs": [],
   "source": [
    "dict_train = {'15111a':111, '16015a':222, 'Dock Block 1': 333,\n",
    "              'Dock Block 2':444, 'Rblock':555,\n",
    "              'TBlocker_Slash':666,\n",
    "              '_Test_RFID':777}\n",
    "df_train['bike_id'] = df_train['bike_id'].replace(dict_train).astype(int)"
   ]
  },
  {
   "cell_type": "code",
   "execution_count": 188,
   "metadata": {},
   "outputs": [
    {
     "name": "stdout",
     "output_type": "stream",
     "text": [
      "Non-numeric rows:\n"
     ]
    },
    {
     "data": {
      "text/plain": [
       "{'15111a',\n",
       " '15229a',\n",
       " '15241b',\n",
       " '16015a',\n",
       " 'Dock Block 1',\n",
       " 'Dock Block 2',\n",
       " 'Rblock',\n",
       " 'TBlocker_Slash',\n",
       " '_Test_RFID'}"
      ]
     },
     "execution_count": 188,
     "metadata": {},
     "output_type": "execute_result"
    }
   ],
   "source": [
    "non_numeric_rows = df_test[\n",
    "    pd.to_numeric(df_test['bike_id'], errors='coerce').isna()]\n",
    "\n",
    "print(\"Non-numeric rows:\")\n",
    "non_numeric_rows.shape\n",
    "set(non_numeric_rows['bike_id'])"
   ]
  },
  {
   "cell_type": "code",
   "execution_count": 189,
   "metadata": {},
   "outputs": [
    {
     "name": "stdout",
     "output_type": "stream",
     "text": [
      "<class 'pandas.core.frame.DataFrame'>\n",
      "Index: 569886 entries, 17059130 to 179492474\n",
      "Data columns (total 12 columns):\n",
      " #   Column               Non-Null Count   Dtype  \n",
      "---  ------               --------------   -----  \n",
      " 0   duration             569886 non-null  int64  \n",
      " 1   start_time           569886 non-null  object \n",
      " 2   end_time             569886 non-null  object \n",
      " 3   start_lat            565264 non-null  float64\n",
      " 4   start_lon            565264 non-null  float64\n",
      " 5   end_lat              554995 non-null  float64\n",
      " 6   end_lon              554995 non-null  float64\n",
      " 7   bike_id              569886 non-null  int64  \n",
      " 8   trip_route_category  569886 non-null  object \n",
      " 9   start_station        569886 non-null  int64  \n",
      " 10  end_station          569886 non-null  int64  \n",
      " 11  passholder_type      569886 non-null  object \n",
      "dtypes: float64(4), int64(4), object(4)\n",
      "memory usage: 56.5+ MB\n"
     ]
    }
   ],
   "source": [
    "dict_test = {'15111a':111, '16015a':222, 'Dock Block 1': 333,\n",
    "              'Dock Block 2':444, 'Rblock':555,\n",
    "              'TBlocker_Slash':666,\n",
    "              '_Test_RFID':777, '15229a':888, '15241b':999\n",
    "              }\n",
    "df_test['bike_id'] = df_test['bike_id'].replace(dict_test).astype(int)\n",
    "df_test.info()"
   ]
  },
  {
   "cell_type": "markdown",
   "metadata": {},
   "source": [
    "#### Uniendo los dataset df_train, df_test con el fin de realizar el análisis exploratorio de datos"
   ]
  },
  {
   "cell_type": "code",
   "execution_count": 190,
   "metadata": {},
   "outputs": [
    {
     "name": "stdout",
     "output_type": "stream",
     "text": [
      "(1269886, 13)\n"
     ]
    },
    {
     "data": {
      "text/html": [
       "<div>\n",
       "<style scoped>\n",
       "    .dataframe tbody tr th:only-of-type {\n",
       "        vertical-align: middle;\n",
       "    }\n",
       "\n",
       "    .dataframe tbody tr th {\n",
       "        vertical-align: top;\n",
       "    }\n",
       "\n",
       "    .dataframe thead th {\n",
       "        text-align: right;\n",
       "    }\n",
       "</style>\n",
       "<table border=\"1\" class=\"dataframe\">\n",
       "  <thead>\n",
       "    <tr style=\"text-align: right;\">\n",
       "      <th></th>\n",
       "      <th>duration</th>\n",
       "      <th>start_time</th>\n",
       "      <th>end_time</th>\n",
       "      <th>start_lat</th>\n",
       "      <th>start_lon</th>\n",
       "      <th>end_lat</th>\n",
       "      <th>end_lon</th>\n",
       "      <th>bike_id</th>\n",
       "      <th>plan_duration</th>\n",
       "      <th>trip_route_category</th>\n",
       "      <th>passholder_type</th>\n",
       "      <th>start_station</th>\n",
       "      <th>end_station</th>\n",
       "    </tr>\n",
       "    <tr>\n",
       "      <th>trip_id</th>\n",
       "      <th></th>\n",
       "      <th></th>\n",
       "      <th></th>\n",
       "      <th></th>\n",
       "      <th></th>\n",
       "      <th></th>\n",
       "      <th></th>\n",
       "      <th></th>\n",
       "      <th></th>\n",
       "      <th></th>\n",
       "      <th></th>\n",
       "      <th></th>\n",
       "      <th></th>\n",
       "    </tr>\n",
       "  </thead>\n",
       "  <tbody>\n",
       "    <tr>\n",
       "      <th>101750280</th>\n",
       "      <td>35</td>\n",
       "      <td>2018-08-07 11:20:00</td>\n",
       "      <td>2018-08-07 11:55:00</td>\n",
       "      <td>33.748920</td>\n",
       "      <td>-118.275192</td>\n",
       "      <td>33.748920</td>\n",
       "      <td>-118.275192</td>\n",
       "      <td>6530</td>\n",
       "      <td>1.0</td>\n",
       "      <td>Round Trip</td>\n",
       "      <td>Walk-up</td>\n",
       "      <td>4127</td>\n",
       "      <td>4127</td>\n",
       "    </tr>\n",
       "    <tr>\n",
       "      <th>46560345</th>\n",
       "      <td>32</td>\n",
       "      <td>9/17/2017 17:51</td>\n",
       "      <td>9/17/2017 18:23</td>\n",
       "      <td>34.035679</td>\n",
       "      <td>-118.270813</td>\n",
       "      <td>34.047749</td>\n",
       "      <td>-118.243172</td>\n",
       "      <td>6683</td>\n",
       "      <td>0.0</td>\n",
       "      <td>One Way</td>\n",
       "      <td>Walk-up</td>\n",
       "      <td>3057</td>\n",
       "      <td>3062</td>\n",
       "    </tr>\n",
       "    <tr>\n",
       "      <th>120016336</th>\n",
       "      <td>6</td>\n",
       "      <td>2019-04-22 09:22:00</td>\n",
       "      <td>2019-04-22 09:28:00</td>\n",
       "      <td>34.046070</td>\n",
       "      <td>-118.233093</td>\n",
       "      <td>34.047749</td>\n",
       "      <td>-118.243172</td>\n",
       "      <td>6710</td>\n",
       "      <td>30.0</td>\n",
       "      <td>One Way</td>\n",
       "      <td>Monthly Pass</td>\n",
       "      <td>3022</td>\n",
       "      <td>3062</td>\n",
       "    </tr>\n",
       "    <tr>\n",
       "      <th>129547190</th>\n",
       "      <td>138</td>\n",
       "      <td>9/22/2019 11:27</td>\n",
       "      <td>9/22/2019 13:45</td>\n",
       "      <td>34.062580</td>\n",
       "      <td>-118.290092</td>\n",
       "      <td>34.059689</td>\n",
       "      <td>-118.294662</td>\n",
       "      <td>17068</td>\n",
       "      <td>1.0</td>\n",
       "      <td>One Way</td>\n",
       "      <td>One Day Pass</td>\n",
       "      <td>4304</td>\n",
       "      <td>4311</td>\n",
       "    </tr>\n",
       "    <tr>\n",
       "      <th>136619463</th>\n",
       "      <td>14</td>\n",
       "      <td>1/31/2020 17:11</td>\n",
       "      <td>1/31/2020 17:25</td>\n",
       "      <td>34.026291</td>\n",
       "      <td>-118.277687</td>\n",
       "      <td>34.021660</td>\n",
       "      <td>-118.278687</td>\n",
       "      <td>18841</td>\n",
       "      <td>30.0</td>\n",
       "      <td>One Way</td>\n",
       "      <td>Monthly Pass</td>\n",
       "      <td>4266</td>\n",
       "      <td>4443</td>\n",
       "    </tr>\n",
       "  </tbody>\n",
       "</table>\n",
       "</div>"
      ],
      "text/plain": [
       "           duration           start_time             end_time  start_lat  \\\n",
       "trip_id                                                                    \n",
       "101750280        35  2018-08-07 11:20:00  2018-08-07 11:55:00  33.748920   \n",
       "46560345         32      9/17/2017 17:51      9/17/2017 18:23  34.035679   \n",
       "120016336         6  2019-04-22 09:22:00  2019-04-22 09:28:00  34.046070   \n",
       "129547190       138      9/22/2019 11:27      9/22/2019 13:45  34.062580   \n",
       "136619463        14      1/31/2020 17:11      1/31/2020 17:25  34.026291   \n",
       "\n",
       "            start_lon    end_lat     end_lon  bike_id  plan_duration  \\\n",
       "trip_id                                                                \n",
       "101750280 -118.275192  33.748920 -118.275192     6530            1.0   \n",
       "46560345  -118.270813  34.047749 -118.243172     6683            0.0   \n",
       "120016336 -118.233093  34.047749 -118.243172     6710           30.0   \n",
       "129547190 -118.290092  34.059689 -118.294662    17068            1.0   \n",
       "136619463 -118.277687  34.021660 -118.278687    18841           30.0   \n",
       "\n",
       "          trip_route_category passholder_type  start_station  end_station  \n",
       "trip_id                                                                    \n",
       "101750280          Round Trip         Walk-up           4127         4127  \n",
       "46560345              One Way         Walk-up           3057         3062  \n",
       "120016336             One Way    Monthly Pass           3022         3062  \n",
       "129547190             One Way    One Day Pass           4304         4311  \n",
       "136619463             One Way    Monthly Pass           4266         4443  "
      ]
     },
     "execution_count": 190,
     "metadata": {},
     "output_type": "execute_result"
    }
   ],
   "source": [
    "df = pd.concat([df_train, df_test], axis = 0, join = 'outer')\n",
    "print(df.shape)\n",
    "df.head()"
   ]
  },
  {
   "cell_type": "markdown",
   "metadata": {},
   "source": [
    "#### Datos nulos"
   ]
  },
  {
   "cell_type": "code",
   "execution_count": 191,
   "metadata": {},
   "outputs": [
    {
     "data": {
      "text/plain": [
       "(700000, 13)"
      ]
     },
     "execution_count": 191,
     "metadata": {},
     "output_type": "execute_result"
    }
   ],
   "source": [
    "df_train.shape"
   ]
  },
  {
   "cell_type": "code",
   "execution_count": 192,
   "metadata": {},
   "outputs": [
    {
     "data": {
      "text/plain": [
       "duration               0.000000\n",
       "start_time             0.000000\n",
       "end_time               0.000000\n",
       "start_lat              0.007947\n",
       "start_lon              0.007947\n",
       "end_lat                0.026534\n",
       "end_lon                0.026534\n",
       "bike_id                0.000000\n",
       "plan_duration          0.000297\n",
       "trip_route_category    0.000000\n",
       "passholder_type        0.003680\n",
       "start_station          0.000000\n",
       "end_station            0.000000\n",
       "dtype: float64"
      ]
     },
     "execution_count": 192,
     "metadata": {},
     "output_type": "execute_result"
    }
   ],
   "source": [
    "df_train.isnull().sum()/df_train.shape[0]"
   ]
  },
  {
   "cell_type": "markdown",
   "metadata": {},
   "source": [
    "### Borramos los datos nulos del conjunto de entrenamiento"
   ]
  },
  {
   "cell_type": "markdown",
   "metadata": {},
   "source": [
    "Dado que el porcentaje de datos nulos no supera el 2% de nulos por columna con datos nulos"
   ]
  },
  {
   "cell_type": "code",
   "execution_count": 193,
   "metadata": {},
   "outputs": [
    {
     "data": {
      "text/plain": [
       "(675626, 13)"
      ]
     },
     "execution_count": 193,
     "metadata": {},
     "output_type": "execute_result"
    }
   ],
   "source": [
    "df_train_sin_nulos = df_train.dropna()\n",
    "df_train_sin_nulos.shape"
   ]
  },
  {
   "cell_type": "code",
   "execution_count": 194,
   "metadata": {},
   "outputs": [
    {
     "data": {
      "text/plain": [
       "duration               0\n",
       "start_time             0\n",
       "end_time               0\n",
       "start_lat              0\n",
       "start_lon              0\n",
       "end_lat                0\n",
       "end_lon                0\n",
       "bike_id                0\n",
       "plan_duration          0\n",
       "trip_route_category    0\n",
       "passholder_type        0\n",
       "start_station          0\n",
       "end_station            0\n",
       "dtype: int64"
      ]
     },
     "execution_count": 194,
     "metadata": {},
     "output_type": "execute_result"
    }
   ],
   "source": [
    "df_train_sin_nulos.isnull().sum()"
   ]
  },
  {
   "cell_type": "markdown",
   "metadata": {},
   "source": [
    "#### Porcentaje de datos eliminados en el conjunto de entrenamiento"
   ]
  },
  {
   "cell_type": "code",
   "execution_count": 195,
   "metadata": {},
   "outputs": [
    {
     "data": {
      "text/plain": [
       "0.03482"
      ]
     },
     "execution_count": 195,
     "metadata": {},
     "output_type": "execute_result"
    }
   ],
   "source": [
    "(df_train.shape[0] - df_train_sin_nulos.shape[0])/df_train.shape[0]"
   ]
  },
  {
   "cell_type": "code",
   "execution_count": 196,
   "metadata": {},
   "outputs": [
    {
     "data": {
      "text/plain": [
       "duration               0.00000\n",
       "start_time             0.00000\n",
       "end_time               0.00000\n",
       "start_lat              0.00811\n",
       "start_lon              0.00811\n",
       "end_lat                0.02613\n",
       "end_lon                0.02613\n",
       "bike_id                0.00000\n",
       "trip_route_category    0.00000\n",
       "start_station          0.00000\n",
       "end_station            0.00000\n",
       "passholder_type        0.00000\n",
       "dtype: float64"
      ]
     },
     "execution_count": 196,
     "metadata": {},
     "output_type": "execute_result"
    }
   ],
   "source": [
    "df_test.isnull().sum()/df_test.shape[0]"
   ]
  },
  {
   "cell_type": "markdown",
   "metadata": {},
   "source": [
    "### Borrando los datos nulos del conjunto de testeo"
   ]
  },
  {
   "cell_type": "code",
   "execution_count": 197,
   "metadata": {},
   "outputs": [],
   "source": [
    "df_test_sin_nulos = df_test.dropna()"
   ]
  },
  {
   "cell_type": "code",
   "execution_count": 198,
   "metadata": {},
   "outputs": [
    {
     "data": {
      "text/plain": [
       "duration               0\n",
       "start_time             0\n",
       "end_time               0\n",
       "start_lat              0\n",
       "start_lon              0\n",
       "end_lat                0\n",
       "end_lon                0\n",
       "bike_id                0\n",
       "trip_route_category    0\n",
       "start_station          0\n",
       "end_station            0\n",
       "passholder_type        0\n",
       "dtype: int64"
      ]
     },
     "execution_count": 198,
     "metadata": {},
     "output_type": "execute_result"
    }
   ],
   "source": [
    "df_test_sin_nulos.isnull().sum()"
   ]
  },
  {
   "cell_type": "markdown",
   "metadata": {},
   "source": [
    "### Porcentaje de filas eliminadas en el conjunto de entrenamiento"
   ]
  },
  {
   "cell_type": "code",
   "execution_count": 199,
   "metadata": {},
   "outputs": [
    {
     "data": {
      "text/plain": [
       "0.030646480173227627"
      ]
     },
     "execution_count": 199,
     "metadata": {},
     "output_type": "execute_result"
    }
   ],
   "source": [
    "(df_test.shape[0] - df_test_sin_nulos.shape[0])/df_test.shape[0]"
   ]
  },
  {
   "cell_type": "code",
   "execution_count": 200,
   "metadata": {},
   "outputs": [
    {
     "data": {
      "text/plain": [
       "duration               0.000000\n",
       "start_time             0.000000\n",
       "end_time               0.000000\n",
       "start_lat              0.008020\n",
       "start_lon              0.008020\n",
       "end_lat                0.026353\n",
       "end_lon                0.026353\n",
       "bike_id                0.000000\n",
       "plan_duration          0.448933\n",
       "trip_route_category    0.000000\n",
       "passholder_type        0.002029\n",
       "start_station          0.000000\n",
       "end_station            0.000000\n",
       "dtype: float64"
      ]
     },
     "execution_count": 200,
     "metadata": {},
     "output_type": "execute_result"
    }
   ],
   "source": [
    "df.isnull().sum()/df.shape[0]"
   ]
  },
  {
   "cell_type": "markdown",
   "metadata": {},
   "source": [
    "#### Convertir las variables start_time y end_time a fecha"
   ]
  },
  {
   "cell_type": "markdown",
   "metadata": {},
   "source": [
    "#### Preprocesando la variable start_time y end_time"
   ]
  },
  {
   "cell_type": "code",
   "execution_count": 201,
   "metadata": {},
   "outputs": [
    {
     "name": "stderr",
     "output_type": "stream",
     "text": [
      "C:\\Users\\Michael_PC\\AppData\\Local\\Temp\\ipykernel_7460\\596530330.py:13: SettingWithCopyWarning: \n",
      "A value is trying to be set on a copy of a slice from a DataFrame.\n",
      "Try using .loc[row_indexer,col_indexer] = value instead\n",
      "\n",
      "See the caveats in the documentation: https://pandas.pydata.org/pandas-docs/stable/user_guide/indexing.html#returning-a-view-versus-a-copy\n",
      "  df_train_sin_nulos['start_time'] = pd.to_datetime(df_train_sin_nulos['start_time'],\n",
      "C:\\Users\\Michael_PC\\AppData\\Local\\Temp\\ipykernel_7460\\596530330.py:15: SettingWithCopyWarning: \n",
      "A value is trying to be set on a copy of a slice from a DataFrame.\n",
      "Try using .loc[row_indexer,col_indexer] = value instead\n",
      "\n",
      "See the caveats in the documentation: https://pandas.pydata.org/pandas-docs/stable/user_guide/indexing.html#returning-a-view-versus-a-copy\n",
      "  df_train_sin_nulos['end_time'] = pd.to_datetime(df_train_sin_nulos['end_time'],\n",
      "C:\\Users\\Michael_PC\\AppData\\Local\\Temp\\ipykernel_7460\\596530330.py:17: SettingWithCopyWarning: \n",
      "A value is trying to be set on a copy of a slice from a DataFrame.\n",
      "Try using .loc[row_indexer,col_indexer] = value instead\n",
      "\n",
      "See the caveats in the documentation: https://pandas.pydata.org/pandas-docs/stable/user_guide/indexing.html#returning-a-view-versus-a-copy\n",
      "  df_test_sin_nulos['start_time'] = pd.to_datetime(df_test_sin_nulos['start_time'],\n",
      "C:\\Users\\Michael_PC\\AppData\\Local\\Temp\\ipykernel_7460\\596530330.py:19: SettingWithCopyWarning: \n",
      "A value is trying to be set on a copy of a slice from a DataFrame.\n",
      "Try using .loc[row_indexer,col_indexer] = value instead\n",
      "\n",
      "See the caveats in the documentation: https://pandas.pydata.org/pandas-docs/stable/user_guide/indexing.html#returning-a-view-versus-a-copy\n",
      "  df_test_sin_nulos['end_time'] = pd.to_datetime(df_test_sin_nulos['end_time'],\n"
     ]
    }
   ],
   "source": [
    "df_train['start_time'] = pd.to_datetime(df_train['start_time'],\n",
    "                                        format = 'mixed')\n",
    "df_train['end_time'] = pd.to_datetime(df_train['end_time'],\n",
    "                                        format = 'mixed')\n",
    "df_test['start_time'] = pd.to_datetime(df_test['start_time'],\n",
    "                                        format = 'mixed')\n",
    "df_test['end_time'] = pd.to_datetime(df_test['end_time'],\n",
    "                                        format = 'mixed')\n",
    "df['start_time'] = pd.to_datetime(df['start_time'],\n",
    "                                        format = 'mixed')\n",
    "df['end_time'] = pd.to_datetime(df['end_time'],\n",
    "                                        format = 'mixed')\n",
    "df_train_sin_nulos['start_time'] = pd.to_datetime(df_train_sin_nulos['start_time'],\n",
    "                                        format = 'mixed')\n",
    "df_train_sin_nulos['end_time'] = pd.to_datetime(df_train_sin_nulos['end_time'],\n",
    "                                        format = 'mixed')\n",
    "df_test_sin_nulos['start_time'] = pd.to_datetime(df_test_sin_nulos['start_time'],\n",
    "                                        format = 'mixed')\n",
    "df_test_sin_nulos['end_time'] = pd.to_datetime(df_test_sin_nulos['end_time'],\n",
    "                                        format = 'mixed')"
   ]
  },
  {
   "cell_type": "markdown",
   "metadata": {},
   "source": [
    "#### Adicionando las variables de día, mes, hora para cada una de las variables \"start_time\" y \"end_time\""
   ]
  },
  {
   "cell_type": "markdown",
   "metadata": {},
   "source": [
    "Se crean estas variables con el fin de realizar un mejor análisis exploratorio de datos"
   ]
  },
  {
   "cell_type": "code",
   "execution_count": 202,
   "metadata": {},
   "outputs": [
    {
     "name": "stderr",
     "output_type": "stream",
     "text": [
      "C:\\Users\\Michael_PC\\AppData\\Local\\Temp\\ipykernel_7460\\410442427.py:53: SettingWithCopyWarning: \n",
      "A value is trying to be set on a copy of a slice from a DataFrame.\n",
      "Try using .loc[row_indexer,col_indexer] = value instead\n",
      "\n",
      "See the caveats in the documentation: https://pandas.pydata.org/pandas-docs/stable/user_guide/indexing.html#returning-a-view-versus-a-copy\n",
      "  df_train_sin_nulos['start_day'] = df_train_sin_nulos['start_time'].dt.day\n",
      "C:\\Users\\Michael_PC\\AppData\\Local\\Temp\\ipykernel_7460\\410442427.py:54: SettingWithCopyWarning: \n",
      "A value is trying to be set on a copy of a slice from a DataFrame.\n",
      "Try using .loc[row_indexer,col_indexer] = value instead\n",
      "\n",
      "See the caveats in the documentation: https://pandas.pydata.org/pandas-docs/stable/user_guide/indexing.html#returning-a-view-versus-a-copy\n",
      "  df_train_sin_nulos['start_month'] = df_train_sin_nulos['start_time'].dt.month\n",
      "C:\\Users\\Michael_PC\\AppData\\Local\\Temp\\ipykernel_7460\\410442427.py:55: SettingWithCopyWarning: \n",
      "A value is trying to be set on a copy of a slice from a DataFrame.\n",
      "Try using .loc[row_indexer,col_indexer] = value instead\n",
      "\n",
      "See the caveats in the documentation: https://pandas.pydata.org/pandas-docs/stable/user_guide/indexing.html#returning-a-view-versus-a-copy\n",
      "  df_train_sin_nulos['start_year'] = df_train_sin_nulos['start_time'].dt.year\n",
      "C:\\Users\\Michael_PC\\AppData\\Local\\Temp\\ipykernel_7460\\410442427.py:56: SettingWithCopyWarning: \n",
      "A value is trying to be set on a copy of a slice from a DataFrame.\n",
      "Try using .loc[row_indexer,col_indexer] = value instead\n",
      "\n",
      "See the caveats in the documentation: https://pandas.pydata.org/pandas-docs/stable/user_guide/indexing.html#returning-a-view-versus-a-copy\n",
      "  df_train_sin_nulos['start_hour'] = df_train_sin_nulos['start_time'].dt.hour\n",
      "C:\\Users\\Michael_PC\\AppData\\Local\\Temp\\ipykernel_7460\\410442427.py:57: SettingWithCopyWarning: \n",
      "A value is trying to be set on a copy of a slice from a DataFrame.\n",
      "Try using .loc[row_indexer,col_indexer] = value instead\n",
      "\n",
      "See the caveats in the documentation: https://pandas.pydata.org/pandas-docs/stable/user_guide/indexing.html#returning-a-view-versus-a-copy\n",
      "  df_train_sin_nulos['start_minute'] = df_train_sin_nulos['start_time'].dt.minute\n",
      "C:\\Users\\Michael_PC\\AppData\\Local\\Temp\\ipykernel_7460\\410442427.py:58: SettingWithCopyWarning: \n",
      "A value is trying to be set on a copy of a slice from a DataFrame.\n",
      "Try using .loc[row_indexer,col_indexer] = value instead\n",
      "\n",
      "See the caveats in the documentation: https://pandas.pydata.org/pandas-docs/stable/user_guide/indexing.html#returning-a-view-versus-a-copy\n",
      "  df_train_sin_nulos['start_second'] = df_train_sin_nulos['start_time'].dt.second\n",
      "C:\\Users\\Michael_PC\\AppData\\Local\\Temp\\ipykernel_7460\\410442427.py:61: SettingWithCopyWarning: \n",
      "A value is trying to be set on a copy of a slice from a DataFrame.\n",
      "Try using .loc[row_indexer,col_indexer] = value instead\n",
      "\n",
      "See the caveats in the documentation: https://pandas.pydata.org/pandas-docs/stable/user_guide/indexing.html#returning-a-view-versus-a-copy\n",
      "  df_train_sin_nulos['end_day'] = df_train_sin_nulos['end_time'].dt.day\n",
      "C:\\Users\\Michael_PC\\AppData\\Local\\Temp\\ipykernel_7460\\410442427.py:62: SettingWithCopyWarning: \n",
      "A value is trying to be set on a copy of a slice from a DataFrame.\n",
      "Try using .loc[row_indexer,col_indexer] = value instead\n",
      "\n",
      "See the caveats in the documentation: https://pandas.pydata.org/pandas-docs/stable/user_guide/indexing.html#returning-a-view-versus-a-copy\n",
      "  df_train_sin_nulos['end_month'] = df_train_sin_nulos['end_time'].dt.month\n",
      "C:\\Users\\Michael_PC\\AppData\\Local\\Temp\\ipykernel_7460\\410442427.py:63: SettingWithCopyWarning: \n",
      "A value is trying to be set on a copy of a slice from a DataFrame.\n",
      "Try using .loc[row_indexer,col_indexer] = value instead\n",
      "\n",
      "See the caveats in the documentation: https://pandas.pydata.org/pandas-docs/stable/user_guide/indexing.html#returning-a-view-versus-a-copy\n",
      "  df_train_sin_nulos['end_year'] = df_train_sin_nulos['end_time'].dt.year\n",
      "C:\\Users\\Michael_PC\\AppData\\Local\\Temp\\ipykernel_7460\\410442427.py:64: SettingWithCopyWarning: \n",
      "A value is trying to be set on a copy of a slice from a DataFrame.\n",
      "Try using .loc[row_indexer,col_indexer] = value instead\n",
      "\n",
      "See the caveats in the documentation: https://pandas.pydata.org/pandas-docs/stable/user_guide/indexing.html#returning-a-view-versus-a-copy\n",
      "  df_train_sin_nulos['end_hour'] = df_train_sin_nulos['end_time'].dt.hour\n",
      "C:\\Users\\Michael_PC\\AppData\\Local\\Temp\\ipykernel_7460\\410442427.py:65: SettingWithCopyWarning: \n",
      "A value is trying to be set on a copy of a slice from a DataFrame.\n",
      "Try using .loc[row_indexer,col_indexer] = value instead\n",
      "\n",
      "See the caveats in the documentation: https://pandas.pydata.org/pandas-docs/stable/user_guide/indexing.html#returning-a-view-versus-a-copy\n",
      "  df_train_sin_nulos['end_minute'] = df_train_sin_nulos['end_time'].dt.minute\n",
      "C:\\Users\\Michael_PC\\AppData\\Local\\Temp\\ipykernel_7460\\410442427.py:66: SettingWithCopyWarning: \n",
      "A value is trying to be set on a copy of a slice from a DataFrame.\n",
      "Try using .loc[row_indexer,col_indexer] = value instead\n",
      "\n",
      "See the caveats in the documentation: https://pandas.pydata.org/pandas-docs/stable/user_guide/indexing.html#returning-a-view-versus-a-copy\n",
      "  df_train_sin_nulos['end_second'] = df_train_sin_nulos['end_time'].dt.second\n",
      "C:\\Users\\Michael_PC\\AppData\\Local\\Temp\\ipykernel_7460\\410442427.py:70: SettingWithCopyWarning: \n",
      "A value is trying to be set on a copy of a slice from a DataFrame.\n",
      "Try using .loc[row_indexer,col_indexer] = value instead\n",
      "\n",
      "See the caveats in the documentation: https://pandas.pydata.org/pandas-docs/stable/user_guide/indexing.html#returning-a-view-versus-a-copy\n",
      "  df_test_sin_nulos['start_day'] = df_test_sin_nulos['start_time'].dt.day\n",
      "C:\\Users\\Michael_PC\\AppData\\Local\\Temp\\ipykernel_7460\\410442427.py:71: SettingWithCopyWarning: \n",
      "A value is trying to be set on a copy of a slice from a DataFrame.\n",
      "Try using .loc[row_indexer,col_indexer] = value instead\n",
      "\n",
      "See the caveats in the documentation: https://pandas.pydata.org/pandas-docs/stable/user_guide/indexing.html#returning-a-view-versus-a-copy\n",
      "  df_test_sin_nulos['start_month'] = df_test_sin_nulos['start_time'].dt.month\n",
      "C:\\Users\\Michael_PC\\AppData\\Local\\Temp\\ipykernel_7460\\410442427.py:72: SettingWithCopyWarning: \n",
      "A value is trying to be set on a copy of a slice from a DataFrame.\n",
      "Try using .loc[row_indexer,col_indexer] = value instead\n",
      "\n",
      "See the caveats in the documentation: https://pandas.pydata.org/pandas-docs/stable/user_guide/indexing.html#returning-a-view-versus-a-copy\n",
      "  df_test_sin_nulos['start_year'] = df_test_sin_nulos['start_time'].dt.year\n",
      "C:\\Users\\Michael_PC\\AppData\\Local\\Temp\\ipykernel_7460\\410442427.py:73: SettingWithCopyWarning: \n",
      "A value is trying to be set on a copy of a slice from a DataFrame.\n",
      "Try using .loc[row_indexer,col_indexer] = value instead\n",
      "\n",
      "See the caveats in the documentation: https://pandas.pydata.org/pandas-docs/stable/user_guide/indexing.html#returning-a-view-versus-a-copy\n",
      "  df_test_sin_nulos['start_hour'] = df_test_sin_nulos['start_time'].dt.hour\n",
      "C:\\Users\\Michael_PC\\AppData\\Local\\Temp\\ipykernel_7460\\410442427.py:74: SettingWithCopyWarning: \n",
      "A value is trying to be set on a copy of a slice from a DataFrame.\n",
      "Try using .loc[row_indexer,col_indexer] = value instead\n",
      "\n",
      "See the caveats in the documentation: https://pandas.pydata.org/pandas-docs/stable/user_guide/indexing.html#returning-a-view-versus-a-copy\n",
      "  df_test_sin_nulos['start_minute'] = df_test_sin_nulos['start_time'].dt.minute\n",
      "C:\\Users\\Michael_PC\\AppData\\Local\\Temp\\ipykernel_7460\\410442427.py:75: SettingWithCopyWarning: \n",
      "A value is trying to be set on a copy of a slice from a DataFrame.\n",
      "Try using .loc[row_indexer,col_indexer] = value instead\n",
      "\n",
      "See the caveats in the documentation: https://pandas.pydata.org/pandas-docs/stable/user_guide/indexing.html#returning-a-view-versus-a-copy\n",
      "  df_test_sin_nulos['start_second'] = df_test_sin_nulos['start_time'].dt.second\n",
      "C:\\Users\\Michael_PC\\AppData\\Local\\Temp\\ipykernel_7460\\410442427.py:78: SettingWithCopyWarning: \n",
      "A value is trying to be set on a copy of a slice from a DataFrame.\n",
      "Try using .loc[row_indexer,col_indexer] = value instead\n",
      "\n",
      "See the caveats in the documentation: https://pandas.pydata.org/pandas-docs/stable/user_guide/indexing.html#returning-a-view-versus-a-copy\n",
      "  df_test_sin_nulos['end_day'] = df_test_sin_nulos['end_time'].dt.day\n",
      "C:\\Users\\Michael_PC\\AppData\\Local\\Temp\\ipykernel_7460\\410442427.py:79: SettingWithCopyWarning: \n",
      "A value is trying to be set on a copy of a slice from a DataFrame.\n",
      "Try using .loc[row_indexer,col_indexer] = value instead\n",
      "\n",
      "See the caveats in the documentation: https://pandas.pydata.org/pandas-docs/stable/user_guide/indexing.html#returning-a-view-versus-a-copy\n",
      "  df_test_sin_nulos['end_month'] = df_test_sin_nulos['end_time'].dt.month\n",
      "C:\\Users\\Michael_PC\\AppData\\Local\\Temp\\ipykernel_7460\\410442427.py:80: SettingWithCopyWarning: \n",
      "A value is trying to be set on a copy of a slice from a DataFrame.\n",
      "Try using .loc[row_indexer,col_indexer] = value instead\n",
      "\n",
      "See the caveats in the documentation: https://pandas.pydata.org/pandas-docs/stable/user_guide/indexing.html#returning-a-view-versus-a-copy\n",
      "  df_test_sin_nulos['end_year'] = df_test_sin_nulos['end_time'].dt.year\n",
      "C:\\Users\\Michael_PC\\AppData\\Local\\Temp\\ipykernel_7460\\410442427.py:81: SettingWithCopyWarning: \n",
      "A value is trying to be set on a copy of a slice from a DataFrame.\n",
      "Try using .loc[row_indexer,col_indexer] = value instead\n",
      "\n",
      "See the caveats in the documentation: https://pandas.pydata.org/pandas-docs/stable/user_guide/indexing.html#returning-a-view-versus-a-copy\n",
      "  df_test_sin_nulos['end_hour'] = df_test_sin_nulos['end_time'].dt.hour\n",
      "C:\\Users\\Michael_PC\\AppData\\Local\\Temp\\ipykernel_7460\\410442427.py:82: SettingWithCopyWarning: \n",
      "A value is trying to be set on a copy of a slice from a DataFrame.\n",
      "Try using .loc[row_indexer,col_indexer] = value instead\n",
      "\n",
      "See the caveats in the documentation: https://pandas.pydata.org/pandas-docs/stable/user_guide/indexing.html#returning-a-view-versus-a-copy\n",
      "  df_test_sin_nulos['end_minute'] = df_test_sin_nulos['end_time'].dt.minute\n",
      "C:\\Users\\Michael_PC\\AppData\\Local\\Temp\\ipykernel_7460\\410442427.py:83: SettingWithCopyWarning: \n",
      "A value is trying to be set on a copy of a slice from a DataFrame.\n",
      "Try using .loc[row_indexer,col_indexer] = value instead\n",
      "\n",
      "See the caveats in the documentation: https://pandas.pydata.org/pandas-docs/stable/user_guide/indexing.html#returning-a-view-versus-a-copy\n",
      "  df_test_sin_nulos['end_second'] = df_test_sin_nulos['end_time'].dt.second\n"
     ]
    }
   ],
   "source": [
    "# Extrayendo los componente de 'start_time'\n",
    "df['start_day'] = df['start_time'].dt.day\n",
    "df['start_month'] = df['start_time'].dt.month\n",
    "df['start_year'] = df['start_time'].dt.year\n",
    "df['start_hour'] = df['start_time'].dt.hour\n",
    "df['start_minute'] = df['start_time'].dt.minute\n",
    "df['start_second'] = df['start_time'].dt.second\n",
    "\n",
    "# Extrayendo los componentes de 'end_time'\n",
    "df['end_day'] = df['end_time'].dt.day\n",
    "df['end_month'] = df['end_time'].dt.month\n",
    "df['end_year'] = df['end_time'].dt.year\n",
    "df['end_hour'] = df['end_time'].dt.hour\n",
    "df['end_minute'] = df['end_time'].dt.minute\n",
    "df['end_second'] = df['end_time'].dt.second\n",
    "\n",
    "### df_train\n",
    "# Extrayendo los componente de 'start_time'\n",
    "df_train['start_day'] = df_train['start_time'].dt.day\n",
    "df_train['start_month'] = df_train['start_time'].dt.month\n",
    "df_train['start_year'] = df_train['start_time'].dt.year\n",
    "df_train['start_hour'] = df_train['start_time'].dt.hour\n",
    "df_train['start_minute'] = df_train['start_time'].dt.minute\n",
    "df_train['start_second'] = df_train['start_time'].dt.second\n",
    "\n",
    "# Extrayendo los componentes de 'end_time'\n",
    "df_train['end_day'] = df_train['end_time'].dt.day\n",
    "df_train['end_month'] = df_train['end_time'].dt.month\n",
    "df_train['end_year'] = df_train['end_time'].dt.year\n",
    "df_train['end_hour'] = df_train['end_time'].dt.hour\n",
    "df_train['end_minute'] = df_train['end_time'].dt.minute\n",
    "df_train['end_second'] = df_train['end_time'].dt.second\n",
    "\n",
    "### df_test\n",
    "# Extrayendo los componente de 'start_time'\n",
    "df_test['start_day'] = df_test['start_time'].dt.day\n",
    "df_test['start_month'] = df_test['start_time'].dt.month\n",
    "df_test['start_year'] = df_test['start_time'].dt.year\n",
    "df_test['start_hour'] = df_test['start_time'].dt.hour\n",
    "df_test['start_minute'] = df_test['start_time'].dt.minute\n",
    "df_test['start_second'] = df_test['start_time'].dt.second\n",
    "\n",
    "# Extrayendo los componentes de 'end_time'\n",
    "df_test['end_day'] = df_test['end_time'].dt.day\n",
    "df_test['end_month'] = df_test['end_time'].dt.month\n",
    "df_test['end_year'] = df_test['end_time'].dt.year\n",
    "df_test['end_hour'] = df_test['end_time'].dt.hour\n",
    "df_test['end_minute'] = df_test['end_time'].dt.minute\n",
    "df_test['end_second'] = df_test['end_time'].dt.second\n",
    "\n",
    "### df_train_sin_nulos\n",
    "# Extrayendo los componente de 'start_time'\n",
    "df_train_sin_nulos['start_day'] = df_train_sin_nulos['start_time'].dt.day\n",
    "df_train_sin_nulos['start_month'] = df_train_sin_nulos['start_time'].dt.month\n",
    "df_train_sin_nulos['start_year'] = df_train_sin_nulos['start_time'].dt.year\n",
    "df_train_sin_nulos['start_hour'] = df_train_sin_nulos['start_time'].dt.hour\n",
    "df_train_sin_nulos['start_minute'] = df_train_sin_nulos['start_time'].dt.minute\n",
    "df_train_sin_nulos['start_second'] = df_train_sin_nulos['start_time'].dt.second\n",
    "\n",
    "# Extrayendo los componentes de 'end_time'\n",
    "df_train_sin_nulos['end_day'] = df_train_sin_nulos['end_time'].dt.day\n",
    "df_train_sin_nulos['end_month'] = df_train_sin_nulos['end_time'].dt.month\n",
    "df_train_sin_nulos['end_year'] = df_train_sin_nulos['end_time'].dt.year\n",
    "df_train_sin_nulos['end_hour'] = df_train_sin_nulos['end_time'].dt.hour\n",
    "df_train_sin_nulos['end_minute'] = df_train_sin_nulos['end_time'].dt.minute\n",
    "df_train_sin_nulos['end_second'] = df_train_sin_nulos['end_time'].dt.second\n",
    "\n",
    "### df_test_sin_nulos\n",
    "# Extrayendo los componente de 'start_time'\n",
    "df_test_sin_nulos['start_day'] = df_test_sin_nulos['start_time'].dt.day\n",
    "df_test_sin_nulos['start_month'] = df_test_sin_nulos['start_time'].dt.month\n",
    "df_test_sin_nulos['start_year'] = df_test_sin_nulos['start_time'].dt.year\n",
    "df_test_sin_nulos['start_hour'] = df_test_sin_nulos['start_time'].dt.hour\n",
    "df_test_sin_nulos['start_minute'] = df_test_sin_nulos['start_time'].dt.minute\n",
    "df_test_sin_nulos['start_second'] = df_test_sin_nulos['start_time'].dt.second\n",
    "\n",
    "# Extrayendo los componentes de 'end_time'\n",
    "df_test_sin_nulos['end_day'] = df_test_sin_nulos['end_time'].dt.day\n",
    "df_test_sin_nulos['end_month'] = df_test_sin_nulos['end_time'].dt.month\n",
    "df_test_sin_nulos['end_year'] = df_test_sin_nulos['end_time'].dt.year\n",
    "df_test_sin_nulos['end_hour'] = df_test_sin_nulos['end_time'].dt.hour\n",
    "df_test_sin_nulos['end_minute'] = df_test_sin_nulos['end_time'].dt.minute\n",
    "df_test_sin_nulos['end_second'] = df_test_sin_nulos['end_time'].dt.second"
   ]
  },
  {
   "cell_type": "markdown",
   "metadata": {},
   "source": [
    "### Guardando los datos en archivos .csv"
   ]
  },
  {
   "cell_type": "code",
   "execution_count": 203,
   "metadata": {},
   "outputs": [],
   "source": [
    "ruta_df = './data/df_set.csv'\n",
    "ruta_train = './data/train_set_prepocesado.csv'\n",
    "ruta_test = './data/test_set_prepocesado.csv'\n",
    "ruta_train_sin_nulos = './data/train_sin_nulos.csv'\n",
    "ruta_test_sin_nulos = './data/test_sin_nulos.csv'\n",
    "df_train_sin_nulos.to_csv(ruta_train_sin_nulos, sep = ',')\n",
    "df_test_sin_nulos.to_csv(ruta_test_sin_nulos, sep = ',')\n",
    "df_train.to_csv(ruta_train, sep = ',')\n",
    "df_test.to_csv(ruta_test, sep = ',')\n",
    "df.to_csv(ruta_df, sep = ',')"
   ]
  }
 ],
 "metadata": {
  "kernelspec": {
   "display_name": "arkon_data_env",
   "language": "python",
   "name": "python3"
  },
  "language_info": {
   "codemirror_mode": {
    "name": "ipython",
    "version": 3
   },
   "file_extension": ".py",
   "mimetype": "text/x-python",
   "name": "python",
   "nbconvert_exporter": "python",
   "pygments_lexer": "ipython3",
   "version": "3.10.9"
  }
 },
 "nbformat": 4,
 "nbformat_minor": 2
}
